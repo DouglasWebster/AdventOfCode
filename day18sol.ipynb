{
 "cells": [
  {
   "cell_type": "code",
   "execution_count": 2,
   "metadata": {},
   "outputs": [
    {
     "name": "stdout",
     "output_type": "stream",
     "text": [
      "Part 1: 3486\n",
      "Part 2: 4747\n"
     ]
    }
   ],
   "source": [
    "import itertools\n",
    "import math\n",
    "import re\n",
    "\n",
    "\n",
    "def add(data):\n",
    "    if \" + \" in data:\n",
    "        data = f\"[{data.split(' + ')[0]},{data.split(' + ')[1]}]\"\n",
    "    return data\n",
    "\n",
    "\n",
    "def explode(data):\n",
    "    offset = 0\n",
    "    for p in re.findall(\"\\[\\d+,\\d+\\]\", data):\n",
    "        pair = re.search(re.escape(p), data[offset:])\n",
    "        left_brackets = data[: pair.start() + offset].count(\"[\")\n",
    "        right_brackets = data[: pair.start() + offset].count(\"]\")\n",
    "        if left_brackets - right_brackets >= 4:\n",
    "            x, y = pair.group()[1:-1].split(\",\")\n",
    "            # split the string into two parts at the pair\n",
    "            # flip left side around so we get the first num going backwards\n",
    "            left = data[: pair.start() + offset][::-1]\n",
    "            right = data[pair.end() + offset :]\n",
    "            # look left\n",
    "            search_left = re.search(\"\\d+\", left)\n",
    "            if search_left:\n",
    "                # need to find the rightmost match not the first\n",
    "                amt = int(left[search_left.start() : search_left.end()][::-1]) + int(x)\n",
    "                left = f\"{left[:search_left.start()]}{str(amt)[::-1]}{left[search_left.end():]}\"\n",
    "            # look right\n",
    "            search_right = re.search(\"\\d+\", right)\n",
    "            if search_right:\n",
    "                amt = int(right[search_right.start() : search_right.end()]) + int(y)\n",
    "                right = (\n",
    "                    f\"{right[:search_right.start()]}{amt}{right[search_right.end():]}\"\n",
    "                )\n",
    "            data = f\"{left[::-1]}0{right}\"\n",
    "            break\n",
    "        else:\n",
    "            offset = pair.end() + offset\n",
    "    return data\n",
    "\n",
    "\n",
    "def split(data):\n",
    "    dd = re.search(\"\\d\\d\", data)\n",
    "    if dd:\n",
    "        left = data[: dd.start()]\n",
    "        right = data[dd.end() :]\n",
    "        left_digit = int(math.floor(int(dd.group()) / 2))\n",
    "        right_digit = int(math.ceil(int(dd.group()) / 2))\n",
    "        data = f\"{left}[{left_digit},{right_digit}]{right}\"\n",
    "    return data\n",
    "\n",
    "\n",
    "def reduce(data):\n",
    "    exploded = explode(data)\n",
    "    if exploded != data:\n",
    "        return reduce(exploded)\n",
    "    else:\n",
    "        splitd = split(data)\n",
    "        if splitd != data:\n",
    "            return reduce(splitd)\n",
    "        else:\n",
    "            return splitd\n",
    "\n",
    "\n",
    "def magnitude(data):\n",
    "    while data.count(\",\") > 1:\n",
    "        for p in re.findall(\"\\[\\d+,\\d+\\]\", data):\n",
    "            pair = re.search(re.escape(p), data)\n",
    "            left_digit, right_digit = p[1:-1].split(\",\")\n",
    "            data = f\"{data[: pair.start()]}{int(left_digit) * 3 + int(right_digit) * 2}{data[pair.end() :]}\"\n",
    "    left_digit, right_digit = data[1:-1].split(\",\")\n",
    "    return int(left_digit) * 3 + int(right_digit) * 2\n",
    "\n",
    "\n",
    "# PART 1\n",
    "data = open(\"data/snapfish.dat\").read().strip().split(\"\\n\")\n",
    "p1 = list(data)\n",
    "sum = \"\"\n",
    "final_sum = \"\"\n",
    "while p1:\n",
    "    line1 = p1.pop(0)\n",
    "    if not final_sum:\n",
    "        line2 = p1.pop(0)\n",
    "        final_sum = f\"{line1} + {line2}\"\n",
    "    else:\n",
    "        final_sum = f\"{final_sum} + {line1}\"\n",
    "    final_sum = reduce(add(final_sum))\n",
    "print(f\"Part 1: {magnitude(final_sum)}\")\n",
    "\n",
    "# PART 2\n",
    "p2 = list(data)\n",
    "magnitudes = set()\n",
    "pairs = list(itertools.permutations(p2, 2))\n",
    "for pair in pairs:\n",
    "    final_sum = reduce(add(f\"{pair[0]} + {pair[1]}\"))\n",
    "    magnitudes.add(magnitude(final_sum))\n",
    "print(f\"Part 2: {max(magnitudes)}\")"
   ]
  },
  {
   "cell_type": "code",
   "execution_count": 3,
   "metadata": {},
   "outputs": [
    {
     "data": {
      "text/plain": [
       "'[[[[6,6],[7,7]],[[0,7],[7,7]]],[[[5,5],[5,6]],9]]]'"
      ]
     },
     "execution_count": 3,
     "metadata": {},
     "output_type": "execute_result"
    }
   ],
   "source": [
    "reduce('[[[[[6,6],[6,6]],[[6,0],[6,7]]],[[[7,7],[8,9]],[8,[8,1]]]],[2,9]]]')"
   ]
  },
  {
   "cell_type": "code",
   "execution_count": null,
   "metadata": {},
   "outputs": [],
   "source": []
  }
 ],
 "metadata": {
  "interpreter": {
   "hash": "93cec69c38bad84d389aeaa7f91e1905006bdd97badbe8bc35fb9b6e193eb61c"
  },
  "kernelspec": {
   "display_name": "Python 3.9.7 64-bit ('AdventOfCode': conda)",
   "language": "python",
   "name": "python3"
  },
  "language_info": {
   "codemirror_mode": {
    "name": "ipython",
    "version": 3
   },
   "file_extension": ".py",
   "mimetype": "text/x-python",
   "name": "python",
   "nbconvert_exporter": "python",
   "pygments_lexer": "ipython3",
   "version": "3.9.7"
  },
  "orig_nbformat": 4
 },
 "nbformat": 4,
 "nbformat_minor": 2
}
