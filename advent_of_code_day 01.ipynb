{
 "cells": [
  {
   "cell_type": "markdown",
   "metadata": {},
   "source": [
    "# Advent of Code #\n"
   ]
  },
  {
   "cell_type": "code",
   "execution_count": 1,
   "metadata": {},
   "outputs": [],
   "source": [
    "# set up the environment\n",
    "import numpy as np"
   ]
  },
  {
   "cell_type": "markdown",
   "metadata": {},
   "source": [
    "## Day 1: Sonar Sweep ##\n",
    "You're minding your own business on a ship at sea when the overboard alarm goes off! You rush to see if you can help. Apparently, one of the Elves tripped and accidentally sent the sleigh keys flying into the ocean!\n",
    "\n",
    "Before you know it, you're inside a submarine the Elves keep ready for situations like this. It's covered in Christmas lights (because of course it is), and it even has an experimental antenna that should be able to track the keys if you can boost its signal strength high enough; there's a little meter that indicates the antenna's signal strength by displaying 0-50 stars."
   ]
  },
  {
   "cell_type": "code",
   "execution_count": 2,
   "metadata": {},
   "outputs": [
    {
     "name": "stdout",
     "output_type": "stream",
     "text": [
      "[ 173  175  171 ... 7118 7115 7121]\n",
      "2000\n"
     ]
    }
   ],
   "source": [
    "# load the data from the source file 'data/depth.dat' and store it in an array.\n",
    "depths = np.loadtxt(\"data/depths.dat\", dtype=\"int\", delimiter=\",\", unpack=False)\n",
    "print(depths)\n",
    "print(len(depths))"
   ]
  },
  {
   "cell_type": "markdown",
   "metadata": {},
   "source": [
    "### Problem 1 ##\n",
    "As the submarine drops below the surface of the ocean, it automatically performs a sonar sweep of the nearby sea floor. On a small screen, the sonar sweep report (your puzzle input) appears: each line is a measurement of the sea floor depth as the sweep looks further and further away from the submarine."
   ]
  },
  {
   "cell_type": "code",
   "execution_count": 3,
   "metadata": {},
   "outputs": [
    {
     "name": "stdout",
     "output_type": "stream",
     "text": [
      "Number of depth increase:  1521\n"
     ]
    }
   ],
   "source": [
    "depth_increase_count = 0\n",
    "previous_depth = depths[0]\n",
    "for x in depths:\n",
    "    if x > previous_depth:\n",
    "        depth_increase_count += 1\n",
    "    previous_depth = x\n",
    "\n",
    "print(\"Number of depth increase: \", depth_increase_count)"
   ]
  },
  {
   "cell_type": "markdown",
   "metadata": {},
   "source": [
    "### Part 2 ###\n",
    "Considering every single measurement isn't as useful as you expected: there's just too much noise in the data.\n",
    "\n",
    "Instead, consider sums of a three-measurement sliding window. "
   ]
  },
  {
   "cell_type": "code",
   "execution_count": 4,
   "metadata": {},
   "outputs": [
    {
     "name": "stdout",
     "output_type": "stream",
     "text": [
      "Number of depth increase:  1543\n"
     ]
    }
   ],
   "source": [
    "# create a new array of the sliding data\n",
    "three_measurement_sums = []\n",
    "for x in range(len(depths)-2):\n",
    "    three_measurement_sums.append(depths[x]+depths[x+1]+depths[x+2])\n",
    "\n",
    "# repeat the calculation with the above data\n",
    "depth_increase_count = 0\n",
    "previous_depth = three_measurement_sums[0]\n",
    "for x in three_measurement_sums:\n",
    "    if x > previous_depth:\n",
    "        depth_increase_count += 1\n",
    "    previous_depth = x\n",
    "\n",
    "print(\"Number of depth increase: \", depth_increase_count)\n"
   ]
  }
 ],
 "metadata": {
  "interpreter": {
   "hash": "93cec69c38bad84d389aeaa7f91e1905006bdd97badbe8bc35fb9b6e193eb61c"
  },
  "kernelspec": {
   "display_name": "Python 3.9.7 64-bit ('AdventOfCode': conda)",
   "language": "python",
   "name": "python3"
  },
  "language_info": {
   "codemirror_mode": {
    "name": "ipython",
    "version": 3
   },
   "file_extension": ".py",
   "mimetype": "text/x-python",
   "name": "python",
   "nbconvert_exporter": "python",
   "pygments_lexer": "ipython3",
   "version": "3.9.7"
  },
  "orig_nbformat": 4
 },
 "nbformat": 4,
 "nbformat_minor": 2
}
