{
 "cells": [
  {
   "cell_type": "markdown",
   "metadata": {},
   "source": [
    "# Advent of Code #\n"
   ]
  },
  {
   "cell_type": "code",
   "execution_count": 1,
   "metadata": {},
   "outputs": [],
   "source": [
    "# set up the environment\n",
    "import numpy as np"
   ]
  },
  {
   "cell_type": "markdown",
   "metadata": {},
   "source": [
    "### Day 9: Smoke Basin ###\n",
    "\n",
    "These caves seem to be [lava tubes](https://en.wikipedia.org/wiki/Lava_tube). Parts are even still volcanically active; small hydrothermal vents release smoke into the caves that slowly settles like rain.\n",
    "\n",
    "If you can model how the smoke flows through the caves, you might be able to avoid it and be that much safer. The submarine generates a heightmap of the floor of the nearby caves for you (your puzzle input).\n",
    "\n",
    "Smoke flows to the lowest point of the area it's in. For example, consider the following heightmap:\n",
    "\n",
    "2**1**9994321**0**  \n",
    "3987894921  \n",
    "98**5**6789892  \n",
    "8767896789  \n",
    "989996**5**678  \n",
    "    \n",
    "Each number corresponds to the height of a particular location, where 9 is the highest and 0 is the lowest a location can be.\n",
    "\n",
    "Your first goal is to find the **low points** - the locations that are lower than any of its adjacent locations. Most locations have four adjacent locations (up, down, left, and right); locations on the edge or corner of the map have three or two adjacent locations, respectively. (Diagonal locations do not count as adjacent.)\n",
    "\n",
    "In the above example, there are *four low points*, all highlighted: two are in the first row (a 1 and a 0), one is in the third row (a 5), and one is in the bottom row (also a 5). All other locations on the heightmap have some lower adjacent location, and so are not low points.\n",
    "\n",
    "The **risk level** of a low point is **1 plus its height**. In the above example, the risk levels of the low points are 2, 1, 6, and 6. The sum of the risk levels of all low points in the heightmap is therefore **15.**\n",
    "\n",
    "Find all of the low points on your heightmap. **What is the sum of the risk levels of all low points on your heightmap?**"
   ]
  },
  {
   "cell_type": "code",
   "execution_count": 2,
   "metadata": {},
   "outputs": [],
   "source": [
    "# Set up the data arrays for both the test data and the puzzle data\n",
    "cave_data_raw = np.loadtxt('data/cave_heighmap.dat', dtype=str)\n",
    "cave_data = np.empty((len(cave_data_raw), len(cave_data_raw[0])), dtype=np.int0)\n",
    "for x, row in enumerate(cave_data_raw):\n",
    "    for y, height in enumerate(cave_data_raw[x]):\n",
    "        cave_data[x,y] = height\n",
    "test_data = np.array([[2, 1, 9, 9, 9, 4, 3, 2, 1, 0],\n",
    "                      [3, 9, 8, 7, 8, 9, 4, 9, 2, 1],\n",
    "                      [9, 8, 5, 6, 7, 8, 9, 8, 9, 2],\n",
    "                      [8, 7, 6, 7, 8, 9, 6, 7, 8, 9],\n",
    "                      [9, 8, 9, 9, 9, 6, 5, 6, 7, 8]])\n"
   ]
  },
  {
   "cell_type": "code",
   "execution_count": 3,
   "metadata": {},
   "outputs": [],
   "source": [
    "def array_low_points(a, fill_val: int) -> np.ndarray:\n",
    "    \"\"\"\n",
    "    Returns an array where non low points are replaced by the specified value\n",
    "    a: the array to check\n",
    "    fill_value: replacement value for non-points\n",
    "    \"\"\"\n",
    "    low_points = np.full_like(a, fill_val)\n",
    "    for x, line in enumerate(a):\n",
    "        if line[0] < line[1]:\n",
    "            low_points[x, 0] = line[0]\n",
    "        for y in range(1, len(line)-1):\n",
    "            if line[y] < line[y-1] and line[y] < line[y+1]:\n",
    "                low_points[x,y] = line[y]\n",
    "        if line[-1] < line[-2]:\n",
    "            low_points[x,-1] = line[-1]\n",
    "    return low_points  \n"
   ]
  },
  {
   "cell_type": "code",
   "execution_count": 4,
   "metadata": {},
   "outputs": [
    {
     "name": "stdout",
     "output_type": "stream",
     "text": [
      "Risk level of low points: 524\n"
     ]
    }
   ],
   "source": [
    "# find the risk factor\n",
    "data = cave_data.copy()\n",
    "\n",
    "line_low_points = array_low_points(data, 10) # array of row low points with 10 as non low points\n",
    "col_low_points = array_low_points(data.T, 11).T # array of column low points with 11 as the fill value\n",
    "low_point_matrix = col_low_points == line_low_points # maxtrix where the row and column low points coincide.\\ \n",
    "\n",
    "low_points = data[low_point_matrix]\n",
    "\n",
    "\n",
    "risk = np.sum(low_points) + np.size(low_points)\n",
    "print(f'Risk level of low points: {risk}')"
   ]
  },
  {
   "cell_type": "markdown",
   "metadata": {},
   "source": [
    "### Part Two ###\n",
    "\n",
    "Next, you need to find the largest basins so you know what areas are most important to avoid.\n",
    "\n",
    "A **basin** is all locations that eventually flow downward to a single low point. Therefore, every low point has a basin, although some basins are very small. Locations of height 9 do not count as being in any basin, and all other locations will always be part of exactly one basin.\n",
    "\n",
    "The **size** of a basin is the number of locations within the basin, including the low point. The example above has four basins.\n",
    "\n",
    "The top-left basin, size 3:\n",
    "\n",
    "**21**99943210  \n",
    "**3**987894921  \n",
    "9856789892  \n",
    "8767896789  \n",
    "9899965678  \n",
    "\n",
    "The top-right basin, size 9:\n",
    "\n",
    "21999**43210**  \n",
    "398789**4921**  \n",
    "985678989**2**  \n",
    "8767896789  \n",
    "9899965678  \n",
    "\n",
    "The middle basin, size 14:\n",
    "\n",
    "2199943210  \n",
    "398**78**94921  \n",
    "9**85678**9892  \n",
    "**87678**96789  \n",
    "9899965678  \n",
    "\n",
    "The bottom-right basin, size 9:\n",
    "\n",
    "2199943210  \n",
    "3987894921  \n",
    "9856789**8**92  \n",
    "876789**678**9  \n",
    "98999**65678**  \n",
    "\n",
    "Find the three largest basins and multiply their sizes together. In the above example, this is 9 * 14 * 9 = 1134.\n",
    "\n",
    "What do you get if you multiply together the sizes of the three largest basins?"
   ]
  },
  {
   "cell_type": "markdown",
   "metadata": {},
   "source": [
    "### Strategy ###\n",
    "As the basins are all surrounded by high points we can traverse across each line marking each non high point with a number.  Every time we cross a high point we use a new unique allocation number.\n",
    "At the start of a new line we also increase the allocation number by one.  On all but the first line we check each points preceding row value - if it is not a high point and a different allocated number we change all the current cells marked with the current allocation number to the preceding rows value and continue with the preceding value.\n",
    "\n",
    "After all the cells have been traversed we count the number of each remaining allocated values and calculate the producet of the three highest counts."
   ]
  },
  {
   "cell_type": "code",
   "execution_count": 5,
   "metadata": {},
   "outputs": [
    {
     "data": {
      "text/plain": [
       "1235430"
      ]
     },
     "execution_count": 5,
     "metadata": {},
     "output_type": "execute_result"
    }
   ],
   "source": [
    "basin_data = cave_data.copy()\n",
    "basin_map = np.zeros_like(basin_data)\n",
    "\n",
    "next_allocation_number = 0\n",
    "current_allocation_number = next_allocation_number\n",
    "for x, row in enumerate(basin_data):\n",
    "    next_allocation_number += 1\n",
    "    current_allocation_number = next_allocation_number\n",
    "    for y, cell in enumerate(row):\n",
    "        if cell == 9:\n",
    "            next_allocation_number += 1\n",
    "            current_allocation_number = next_allocation_number\n",
    "        else:\n",
    "            basin_map[x, y] = current_allocation_number\n",
    "            if not x == 0:\n",
    "                preceding_value = basin_map[x-1, y]\n",
    "                if preceding_value != current_allocation_number and preceding_value != 0:\n",
    "                    basin_map = np.where(basin_map == current_allocation_number, preceding_value, basin_map)\n",
    "                    current_allocation_number = preceding_value\n",
    "                    \n",
    "\n",
    "basin_numbers = np.flip(np.sort(np.unique(basin_map, return_counts=True)[1][1:]))\n",
    "\n",
    "product_of_largest_basins = basin_numbers[0] * basin_numbers[1] * basin_numbers[2]\n",
    "\n",
    "product_of_largest_basins\n"
   ]
  }
 ],
 "metadata": {
  "interpreter": {
   "hash": "93cec69c38bad84d389aeaa7f91e1905006bdd97badbe8bc35fb9b6e193eb61c"
  },
  "kernelspec": {
   "display_name": "Python 3.9.7 64-bit ('AdventOfCode': conda)",
   "language": "python",
   "name": "python3"
  },
  "language_info": {
   "codemirror_mode": {
    "name": "ipython",
    "version": 3
   },
   "file_extension": ".py",
   "mimetype": "text/x-python",
   "name": "python",
   "nbconvert_exporter": "python",
   "pygments_lexer": "ipython3",
   "version": "3.9.7"
  },
  "orig_nbformat": 4
 },
 "nbformat": 4,
 "nbformat_minor": 2
}
