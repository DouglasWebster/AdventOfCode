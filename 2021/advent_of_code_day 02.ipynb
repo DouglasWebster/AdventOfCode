{
 "cells": [
  {
   "cell_type": "markdown",
   "metadata": {},
   "source": [
    "# Advent of Code #\n"
   ]
  },
  {
   "cell_type": "code",
   "execution_count": 1,
   "metadata": {},
   "outputs": [],
   "source": [
    "# set up the environment\n",
    "import numpy as np"
   ]
  },
  {
   "cell_type": "markdown",
   "metadata": {},
   "source": [
    "## Day 2: Dive! ##\n",
    "### Part One ###\n",
    "It seems like the submarine can take a series of commands like forward 1, down 2, or up 3:\n",
    "\n",
    "    forward X increases the horizontal position by X units.\n",
    "    down X increases the depth by X units.\n",
    "    up X decreases the depth by X units.\n",
    "\n",
    "Note that since you're on a submarine, down and up affect your depth, and so they have the opposite result of what you might expect.\n",
    "\n",
    "The submarine seems to already have a planned course (your puzzle input). You should probably figure out where it's going. For example:\n",
    "\n",
    "forward 5\n",
    "down 5\n",
    "forward 8\n",
    "up 3\n",
    "down 8\n",
    "forward 2\n",
    "\n",
    "Your horizontal position and depth both start at 0. The steps above would then modify them as follows:\n",
    "\n",
    "    forward 5 adds 5 to your horizontal position, a total of 5.\n",
    "    down 5 adds 5 to your depth, resulting in a value of 5.\n",
    "    forward 8 adds 8 to your horizontal position, a total of 13.\n",
    "    up 3 decreases your depth by 3, resulting in a value of 2.\n",
    "    down 8 adds 8 to your depth, resulting in a value of 10.\n",
    "    forward 2 adds 2 to your horizontal position, a total of 15.\n",
    "\n",
    "After following these instructions, you would have a horizontal position of 15 and a depth of 10. (Multiplying these together produces 150.)\n",
    "\n",
    "Calculate the horizontal position and depth you would have after following the planned course. What do you get if you multiply your final horizontal position by your final depth?"
   ]
  },
  {
   "cell_type": "code",
   "execution_count": 5,
   "metadata": {},
   "outputs": [
    {
     "name": "stdout",
     "output_type": "stream",
     "text": [
      "[('forward', 8) ('forward', 9) ('forward', 9) ('down', 3) ('forward', 9)\n",
      " ('down', 1) ('down', 7) ('down', 7) ('down', 4) ('down', 2)] ... [('down', 8) ('forward', 6) ('forward', 7) ('forward', 9) ('forward', 4)\n",
      " ('down', 3) ('up', 5) ('down', 7) ('down', 7) ('forward', 9)]\n",
      "1000\n"
     ]
    }
   ],
   "source": [
    "# Import the manoeuvreing data into an array fo tuples \n",
    "manoeuvres = np.genfromtxt(\"data/manoeuvre.dat\", dtype=\"U7, i4\", delimiter=\" \")\n",
    "print(manoeuvres[:10], '...', manoeuvres[-10:])\n",
    "print(len(manoeuvres))"
   ]
  },
  {
   "cell_type": "code",
   "execution_count": 6,
   "metadata": {},
   "outputs": [
    {
     "name": "stdout",
     "output_type": "stream",
     "text": [
      "Displacement:  2003 , Depth:  872\n",
      "Product of displacement and dept:  1746616\n"
     ]
    }
   ],
   "source": [
    "horizontal_pos = 0\n",
    "depth = 0\n",
    "for x in manoeuvres:\n",
    "    direction = x[0]\n",
    "    steps = x[1]\n",
    "    if direction == \"forward\":\n",
    "        horizontal_pos += steps\n",
    "    if direction == \"up\":\n",
    "        depth -= steps\n",
    "    if direction == \"down\":\n",
    "        depth += steps\n",
    "    \n",
    "print(\"Displacement: \", horizontal_pos, \", Depth: \", depth)\n",
    "print(\"Product of displacement and dept: \", horizontal_pos * depth)\n"
   ]
  },
  {
   "cell_type": "markdown",
   "metadata": {},
   "source": [
    "### Part Two ###\n",
    "Based on your calculations, the planned course doesn't seem to make any sense. You find the submarine manual and discover that the process is actually slightly more complicated.\n",
    "\n",
    "In addition to horizontal position and depth, you'll also need to track a third value, aim, which also starts at 0. The commands also mean something entirely different than you first thought:\n",
    "\n",
    "```\n",
    "down X increases your aim by X units.\n",
    "up X decreases your aim by X units.\n",
    "forward X does two things:\n",
    "    It increases your horizontal position by X units.\n",
    "    It increases your depth by your aim multiplied by X.\n",
    "```\n",
    "Again note that since you're on a submarine, down and up do the opposite of what you might expect: \"down\" means aiming in the positive direction.\n",
    "\n",
    "Now, the above example does something different:\n",
    "\n",
    "```\n",
    "forward 5 adds 5 to your horizontal position, a total of 5. \n",
    "    Because your aim is 0, your depth does not change.\n",
    "down 5 adds 5 to your aim, resulting in a value of 5.\n",
    "forward 8 adds 8 to your horizontal position, a total of 13. \n",
    "    Because your aim is 5, your depth increases by 8*5=40.\n",
    "up 3 decreases your aim by 3, resulting in a value of 2.\n",
    "down 8 adds 8 to your aim, resulting in a value of 10.\n",
    "forward 2 adds 2 to your horizontal position, a total of 15.\n",
    "    Because your aim is 10, your depth increases by 2*10=20 to a total of 60.\n",
    "```\n",
    "After following these new instructions, you would have a horizontal position of 15 and a depth of 60. (Multiplying these produces 900.)\n",
    "\n",
    "Using this new interpretation of the commands, calculate the horizontal position and depth you would have after following the planned course."
   ]
  },
  {
   "cell_type": "code",
   "execution_count": 7,
   "metadata": {},
   "outputs": [
    {
     "name": "stdout",
     "output_type": "stream",
     "text": [
      "Displacement:  2003 , Depth:  869681\n",
      "Product of displacement and dept:  1741971043\n"
     ]
    }
   ],
   "source": [
    "horizontal_pos = 0\n",
    "depth = 0\n",
    "aim = 0\n",
    "for x in manoeuvres:\n",
    "    direction = x[0]\n",
    "    steps = x[1]\n",
    "    if direction == \"up\":\n",
    "        aim -= steps\n",
    "    if direction == \"down\":\n",
    "        aim += steps\n",
    "    if direction == \"forward\":\n",
    "        horizontal_pos += steps\n",
    "        depth += aim * steps\n",
    "\n",
    "    \n",
    "print(\"Displacement: \", horizontal_pos, \", Depth: \", depth)\n",
    "print(\"Product of displacement and dept: \", horizontal_pos * depth)"
   ]
  }
 ],
 "metadata": {
  "interpreter": {
   "hash": "93cec69c38bad84d389aeaa7f91e1905006bdd97badbe8bc35fb9b6e193eb61c"
  },
  "kernelspec": {
   "display_name": "Python 3.9.7 64-bit ('AdventOfCode': conda)",
   "language": "python",
   "name": "python3"
  },
  "language_info": {
   "codemirror_mode": {
    "name": "ipython",
    "version": 3
   },
   "file_extension": ".py",
   "mimetype": "text/x-python",
   "name": "python",
   "nbconvert_exporter": "python",
   "pygments_lexer": "ipython3",
   "version": "3.9.7"
  },
  "orig_nbformat": 4
 },
 "nbformat": 4,
 "nbformat_minor": 2
}
