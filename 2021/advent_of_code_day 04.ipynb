{
 "cells": [
  {
   "cell_type": "markdown",
   "metadata": {},
   "source": [
    "# Advent of Code #\n"
   ]
  },
  {
   "cell_type": "code",
   "execution_count": 1,
   "metadata": {},
   "outputs": [],
   "source": [
    "# set up the environment\n",
    "import numpy as np"
   ]
  },
  {
   "cell_type": "markdown",
   "metadata": {},
   "source": [
    "## Day 4: Giant Squid ##\n",
    "\n",
    "### Part 1 ###\n",
    "You're already almost 1.5km (almost a mile) below the surface of the ocean, already so deep that you can't see any sunlight. What you can see, however, is a giant squid that has attached itself to the outside of your submarine.\n",
    "\n",
    "Maybe it wants to play bingo?\n",
    "\n",
    "Bingo is played on a set of boards each consisting of a 5x5 grid of numbers. Numbers are chosen at random, and the chosen number is marked on all boards on which it appears. (Numbers may not appear on all boards.) If all numbers in any row or any column of a board are marked, that board wins. (Diagonals don't count.)\n",
    "\n",
    "The submarine has a bingo subsystem to help passengers (currently, you and the giant squid) pass the time. It automatically generates a random order in which to draw numbers and a random set of boards (your puzzle input). For example:\n",
    "\n",
    "`7,4,9,5,11,17,23,2,0,14,21,24,10,16,13,6,15,25,12,22,18,20,8,19,3,26,1`\n",
    "\n",
    "```\n",
    "22 13 17 11  0\n",
    " 8  2 23  4 24\n",
    "21  9 14 16  7\n",
    " 6 10  3 18  5\n",
    " 1 12 20 15 19\n",
    "\n",
    " 3 15  0  2 22\n",
    " 9 18 13 17  5\n",
    "19  8  7 25 23\n",
    "20 11 10 24  4\n",
    "14 21 16 12  6\n",
    "\n",
    "14 21 17 24  4\n",
    "10 16 15  9 19\n",
    "18  8 23 26 20\n",
    "22 11 13  6  5\n",
    " 2  0 12  3  7\n",
    "```\n",
    "After the first five numbers are drawn `(7, 4, 9, 5, and 11)`, there are no winners, but the boards are marked as follows (shown here adjacent to each other to save space):\n",
    "```\n",
    "22 13 17 11  0         3 15  0  2 22        14 21 17 24  4\n",
    " 8  2 23  4 24         9 18 13 17  5        10 16 15  9 19\n",
    "21  9 14 16  7        19  8  7 25 23        18  8 23 26 20\n",
    " 6 10  3 18  5        20 11 10 24  4        22 11 13  6  5\n",
    " 1 12 20 15 19        14 21 16 12  6         2  0 12  3  7\n",
    "```\n",
    "After the next six numbers are drawn `(17, 23, 2, 0, 14, and 21)`, there are still no winners:\n",
    "```\n",
    "22 13 17 11  0         3 15  0  2 22        14 21 17 24  4\n",
    " 8  2 23  4 24         9 18 13 17  5        10 16 15  9 19\n",
    "21  9 14 16  7        19  8  7 25 23        18  8 23 26 20\n",
    " 6 10  3 18  5        20 11 10 24  4        22 11 13  6  5\n",
    " 1 12 20 15 19        14 21 16 12  6         2  0 12  3  7\n",
    "```\n",
    "Finally, `24` is drawn:\n",
    "```\n",
    "22 13 17 11  0         3 15  0  2 22        14 21 17 24  4\n",
    " 8  2 23  4 24         9 18 13 17  5        10 16 15  9 19\n",
    "21  9 14 16  7        19  8  7 25 23        18  8 23 26 20\n",
    " 6 10  3 18  5        20 11 10 24  4        22 11 13  6  5\n",
    " 1 12 20 15 19        14 21 16 12  6         2  0 12  3  7\n",
    "```\n",
    "At this point, the third board wins because it has at least one complete row or column of marked numbers (in this case, the entire top row is marked: `14 21 17 24 4`).\n",
    "\n",
    "The score of the winning board can now be calculated. Start by finding the sum of all unmarked numbers on that board; in this case, the sum is 188. Then, multiply that sum by the number that was just called when the board won, 24, to get the final score, 188 * 24 = 4512.\n",
    "\n",
    "To guarantee victory against the giant squid, figure out which board will win first. What will your final score be if you choose that board?"
   ]
  },
  {
   "cell_type": "markdown",
   "metadata": {},
   "source": [
    "### Inport the data and define a bingo card ###"
   ]
  },
  {
   "cell_type": "code",
   "execution_count": 2,
   "metadata": {},
   "outputs": [],
   "source": [
    "# Import the data into array \n",
    "bingo_calls = np.genfromtxt(\"data/bingo_calls.dat\", dtype=\"i4\", delimiter=',')\n",
    "raw_cards = np.genfromtxt(\"data/bingo_cards.dat\", dtype=\"i4\").reshape(100,5,5)\n",
    "\n",
    "# define a bingo_card\n",
    "class BingoCard():\n",
    "    # A bingo card consists of a 6 x 6 matrix\n",
    "    # rows 1 - 5 and columns 1 - 5 contain the cards numbers\n",
    "    # row 6 column 1 - 5 contains the count of the numbers called in that column\n",
    "    # column 6  rows 1 -5 contains the count of the numbers called in that row\n",
    "    # row 6 column 6 indicates a winning card - if any of row 6 or column 6 reaches 5\n",
    "\n",
    "    def __init__(self) -> None:\n",
    "        self.card = np.zeros((6,6), dtype=\"i4\")\n",
    "        self.totals = 0\n",
    "        self.card_no = 0\n",
    "        self.last_call = -1\n",
    "        self.__has_won = False\n",
    "        self.no_of_checks = 0\n",
    "        \n",
    "\n",
    "    def __str__(self) -> str:\n",
    "        card = f'{self.card[:]}'\n",
    "        return card\n",
    "\n",
    "    def build(self, lines:np.ndarray, card_no: int) -> None:\n",
    "        self.totals = np.sum(lines)\n",
    "        self.card = np.column_stack((lines, [5, 5, 5, 5, 5]))\n",
    "        self.card = np.row_stack((self.card, [5, 5, 5, 5, 5, 0]))\n",
    "        self.card_no = card_no\n",
    "\n",
    "    def check_number(self, number) -> bool:\n",
    "        if self.__has_won:\n",
    "            return True\n",
    "        self.no_of_checks += 1\n",
    "        res = np.where(self.card[:5, :5] == number)\n",
    "        if res[0].size == 0:\n",
    "            return False\n",
    "        self.last_call = number\n",
    "        row = res[0]\n",
    "        col = res[1]\n",
    "        self.card[row,5] -= 1\n",
    "        self.card[5,col] -= 1\n",
    "        self.card[row, col] *= -1\n",
    "        self. totals -= number\n",
    "        if self.card[row,5] == 0 or self.card[5, col] == 0:\n",
    "            self.__has_won = True\n",
    "            return True\n",
    "\n",
    "        return False\n",
    "\n",
    "    def unchecked_sum(self) -> int:\n",
    "        return self.totals\n",
    "\n",
    "    def is_winner(self) -> bool:\n",
    "        return self.__has_won\n",
    "    \n"
   ]
  },
  {
   "cell_type": "markdown",
   "metadata": {},
   "source": [
    "### Set up the board ##"
   ]
  },
  {
   "cell_type": "code",
   "execution_count": 3,
   "metadata": {},
   "outputs": [],
   "source": [
    "def set_bingo_cards() -> np.ndarray:\n",
    "    cards = []\n",
    "    for x, raw_card in enumerate(raw_cards):\n",
    "        card = BingoCard()\n",
    "        card.build(raw_card, x+1)\n",
    "        cards.append(card)\n",
    "    return cards\n",
    "\n"
   ]
  },
  {
   "cell_type": "markdown",
   "metadata": {},
   "source": [
    "### Check for the first winning card ###"
   ]
  },
  {
   "cell_type": "code",
   "execution_count": 4,
   "metadata": {},
   "outputs": [
    {
     "name": "stdout",
     "output_type": "stream",
     "text": [
      "Card 50 is a winner!\n",
      "[[-15  56 -39  57  40   3]\n",
      " [-67 -59  26  30  90   3]\n",
      " [-84  -2 -41 -25  -7   0]\n",
      " [ 96 -23  79  99  85   4]\n",
      " [ 13  10  86  51  53   5]\n",
      " [  2   2   3   4   4   0]]\n",
      "Last call was 41 and the total of uncheched numbers is 871\n",
      "Final Score: 35711\n"
     ]
    }
   ],
   "source": [
    "bingo_cards = set_bingo_cards()\n",
    "\n",
    "found_winner = False\n",
    "winning_card = None\n",
    "last_call = -1\n",
    "for call in bingo_calls:\n",
    "    last_call = call\n",
    "    for card in bingo_cards:\n",
    "        if card.check_number(call):\n",
    "            found_winner = True\n",
    "            winning_card = card\n",
    "            break\n",
    "    if found_winner:\n",
    "        break\n",
    "\n",
    "if winning_card :\n",
    "    unchecked_score = winning_card.unchecked_sum()\n",
    "    print('Card {} is a winner!\\n{}'.format(winning_card.card_no, winning_card))\n",
    "    print('Last call was {} and the total of uncheched numbers is {}'.format(\n",
    "        winning_card.last_call, unchecked_score\n",
    "    ))\n",
    "    print('Final Score: {}'.format(unchecked_score * last_call))\n"
   ]
  },
  {
   "cell_type": "markdown",
   "metadata": {},
   "source": [
    "### Reset the board and find the last winning card ###\n",
    "\n",
    "This time play all the numbers in the call list.  At the end we check each ***winning*** card and the one with the highest number of checks before winning is the one that is required. "
   ]
  },
  {
   "cell_type": "code",
   "execution_count": 5,
   "metadata": {},
   "outputs": [
    {
     "name": "stdout",
     "output_type": "stream",
     "text": [
      "Card 31\n",
      "[[  9 -93 -65 -94 -29   1]\n",
      " [ -2  80  -7  16 -79   2]\n",
      " [-11  -5 -21  73 -50   1]\n",
      " [-20 -70 -37 -48  85   1]\n",
      " [-99   3 -55 -58  -8   1]\n",
      " [  1   2   0   2   1   0]]\n",
      "is the last winner!\n",
      "Last call was 21 and the total of uncheched numbers is 266\n",
      "Final Score: 5586\n"
     ]
    }
   ],
   "source": [
    "bingo_cards = set_bingo_cards()\n",
    "\n",
    "last_call_ordinal = -1\n",
    "bingo_card = None\n",
    "\n",
    "for call in bingo_calls:\n",
    "    for card in bingo_cards:\n",
    "        card.check_number(call)\n",
    "\n",
    "winning_card = None\n",
    "max_calls = 0\n",
    "for card in bingo_cards:\n",
    "    if card.is_winner():\n",
    "        card_checks = card.no_of_checks\n",
    "        if card_checks > max_calls:\n",
    "            max_calls = card_checks\n",
    "            winning_card = card\n",
    "    \n",
    "\n",
    "if winning_card:\n",
    "    unchecked_score = winning_card.unchecked_sum()\n",
    "    last_call = winning_card.last_call\n",
    "    print('Card {}\\n{}\\nis the last winner!'.format(winning_card.card_no, winning_card))\n",
    "    print('Last call was {} and the total of uncheched numbers is {}'.format(\n",
    "        last_call, unchecked_score\n",
    "    ))\n",
    "    print('Final Score: {}'.format(unchecked_score * last_call))"
   ]
  }
 ],
 "metadata": {
  "interpreter": {
   "hash": "93cec69c38bad84d389aeaa7f91e1905006bdd97badbe8bc35fb9b6e193eb61c"
  },
  "kernelspec": {
   "display_name": "Python 3.9.7 64-bit ('AdventOfCode': conda)",
   "language": "python",
   "name": "python3"
  },
  "language_info": {
   "codemirror_mode": {
    "name": "ipython",
    "version": 3
   },
   "file_extension": ".py",
   "mimetype": "text/x-python",
   "name": "python",
   "nbconvert_exporter": "python",
   "pygments_lexer": "ipython3",
   "version": "3.10.2"
  },
  "orig_nbformat": 4
 },
 "nbformat": 4,
 "nbformat_minor": 2
}
