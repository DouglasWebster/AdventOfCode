{
 "cells": [
  {
   "cell_type": "markdown",
   "metadata": {},
   "source": [
    "# Advent of Code #"
   ]
  },
  {
   "cell_type": "code",
   "execution_count": 50,
   "metadata": {},
   "outputs": [],
   "source": [
    "# set up the environment\n",
    "import numpy as np\n",
    "from collections import Counter"
   ]
  },
  {
   "cell_type": "markdown",
   "metadata": {},
   "source": [
    "## Day 14: Extended Polymerization ##\n",
    "\n",
    "The incredible pressures at this depth are starting to put a strain on your submarine. The submarine has [polymerization](https://en.wikipedia.org/wiki/Polymerization) equipment that would produce suitable materials to reinforce the submarine, and the nearby volcanically-active caves should even have the necessary input elements in sufficient quantities.\n",
    "\n",
    "The submarine manual contains instructions for finding the optimal polymer formula; specifically, it offers a **polymer template** and a list of **pair insertion** rules (your puzzle input). You just need to work out what polymer would result after repeating the pair insertion process a few times.\n",
    "\n",
    "For example:\n",
    "```\n",
    "NNCB\n",
    "\n",
    "CH -> B\n",
    "HH -> N\n",
    "CB -> H\n",
    "NH -> C\n",
    "HB -> C\n",
    "HC -> B\n",
    "HN -> C\n",
    "NN -> C\n",
    "BH -> H\n",
    "NC -> B\n",
    "NB -> B\n",
    "BN -> B\n",
    "BB -> N\n",
    "BC -> B\n",
    "CC -> N\n",
    "CN -> C\n",
    "```\n",
    "The first line is the **polymer template** - this is the starting point of the process.\n",
    "\n",
    "The following section defines the pair **insertion rules**. A rule like AB -> C means that when elements A and B are immediately adjacent, element C should be inserted between them. These insertions all happen simultaneously.\n",
    "\n",
    "So, starting with the polymer template `NNCB`, the first step simultaneously considers all three pairs:\n",
    "\n",
    "- The first pair (NN) matches the rule NN -> C, so element C is inserted between the first N and the second N.\n",
    "- The second pair (NC) matches the rule NC -> B, so element B is inserted between the N and the C.\n",
    "- The third pair (CB matches the rule CB -> H, so element H is inserted between the C and the B.\n",
    "\n",
    "Note that these pairs overlap: the second element of one pair is the first element of the next pair. Also, because all pairs are considered simultaneously, inserted elements are not considered to be part of a pair until the next step.\n",
    "\n",
    "After the first step of this process, the polymer becomes `NCNBCHB`.\n",
    "\n",
    "Here are the results of a few steps using the above rules:\n",
    "```\n",
    "Template:     NNCB\n",
    "After step 1: NCNBCHB\n",
    "After step 2: NBCCNBBBCBHCB\n",
    "After step 3: NBBBCNCCNBBNBNBBCHBHHBCHB\n",
    "After step 4: NBBNBNBBCCNBCNCCNBBNBBNBBBNBBNBBCBHCBHHNHCBBCBHCB\n",
    "```\n",
    "This polymer grows quickly. After step 5, it has length 97; After step 10, it has length 3073. After step 10, `B` occurs 1749 times, `C` occurs 298 times, `H` occurs 161 times, and `N` occurs 865 times; taking the quantity of the most common element (`B`, 1749) and subtracting the quantity of the least common element (H, 161) produces 1749 - 161 = **1588**.\n",
    "\n",
    "Apply 10 steps of pair insertion to the polymer template and find the most and least common elements in the result. **What do you get if you take the quantity of the most common element and subtract the quantity of the least common element?**"
   ]
  },
  {
   "cell_type": "markdown",
   "metadata": {},
   "source": [
    "## Solution 1 ##\n",
    "\n",
    "We just use a straight iterative process, expaning the template with each iteration."
   ]
  },
  {
   "cell_type": "code",
   "execution_count": 51,
   "metadata": {},
   "outputs": [
    {
     "name": "stdout",
     "output_type": "stream",
     "text": [
      "Difference between the frequency of the most common item and the least common item is: 2068\n"
     ]
    }
   ],
   "source": [
    "polymer_template = \"\"\n",
    "polymer_instructions = {}\n",
    "with open(\"data/polymerization.dat\") as file:\n",
    "    temp = []\n",
    "    for line in file:\n",
    "        line = line.strip()\n",
    "        if line == \"\":\n",
    "            continue\n",
    "        if \"->\" in line:\n",
    "            x, y = line.replace(\" ->\", \"\").split()\n",
    "            polymer_instructions[x] = y\n",
    "        else:\n",
    "            polymer_template = line\n",
    "\n",
    "test_template = \"NNCB\"\n",
    "test_instructions = {\n",
    "    \"CH\": \"B\",\n",
    "    \"HH\": \"N\",\n",
    "    \"CB\": \"H\",\n",
    "    \"NH\": \"C\",\n",
    "    \"HB\": \"C\",\n",
    "    \"HC\": \"B\",\n",
    "    \"HN\": \"C\",\n",
    "    \"NN\": \"C\",\n",
    "    \"BH\": \"H\",\n",
    "    \"NC\": \"B\",\n",
    "    \"NB\": \"B\",\n",
    "    \"BN\": \"B\",\n",
    "    \"BB\": \"N\",\n",
    "    \"BC\": \"B\",\n",
    "    \"CC\": \"N\",\n",
    "    \"CN\": \"C\",\n",
    "}\n",
    "\n",
    "program_template = polymer_template\n",
    "program_instructions = polymer_instructions.copy()\n",
    "\n",
    "def update_polymer(polymer: str, insertions: dict) -> str:\n",
    "    updated_polymer = \"\"\n",
    "    polymer_length = len(polymer) - 1\n",
    "\n",
    "    for x, char in enumerate(polymer):\n",
    "        if x == polymer_length:\n",
    "            updated_polymer += char\n",
    "            continue\n",
    "        char_pair = \"\" + char + polymer[x + 1]\n",
    "        updated_polymer += \"\" + char + insertions[char_pair]\n",
    "\n",
    "    return updated_polymer\n",
    "\n",
    "\n",
    "for step in range(10):\n",
    "    program_template = update_polymer(program_template, program_instructions)\n",
    "\n",
    "ordered_items = Counter(program_template).most_common()\n",
    "most_common_count = ordered_items[0][1]\n",
    "least_common_count = ordered_items[-1][1]\n",
    "print(\n",
    "    f\"Difference between the frequency of the most common item and the least common item is: {ordered_items[0][1] - ordered_items[-1][1]}\"\n",
    ")\n",
    "\n"
   ]
  },
  {
   "cell_type": "markdown",
   "metadata": {},
   "source": [
    "## Part Two ##\n",
    "\n",
    "The resulting polymer isn't nearly strong enough to reinforce the submarine. You'll need to run more steps of the pair insertion process; a total of **40 steps** should do it.\n",
    "\n",
    "In the above example, the most common element is B (occurring 2192039569602 times) and the least common element is H (occurring 3849876073 times); subtracting these produces **2188189693529**.\n",
    "\n",
    "Apply **40** steps of pair insertion to the polymer template and find the most and least common elements in the result. **What do you get if you take the quantity of the most common element and subtract the quantity of the least common element?**"
   ]
  },
  {
   "cell_type": "markdown",
   "metadata": {},
   "source": [
    "## Solution 2 ##\n",
    "Applying the above iterative solution is no longer feasable with larger runs as the number of digits in the answer is $(2^n + 1) * s$  where n is the number of steps and s is the initial polymer size.  A brute force approach gives an O(2^n) - as bad a Big'O' as you can get.  \n",
    "\n",
    "We need some sort of recursive function that remembers intermediate results (c.f [Recursive Functions](https://python-course.eu/advanced-python/recursive-functions.php)) as a straight recursive function will be no better than the brute force attack.  This is case some form [Memoization](https://python-course.eu/advanced-python/memoization-decorators.php) would seem appropriate and the ```@cache``` decorator from ```functools``` seems to fit the bill.\n",
    "\n",
    "As the problem calls for counting the times each 'molecule' of the polymer occurs all we need is to count each type of new molecule as the polymer grows. \n",
    "\n",
    "The function will now recursively descend the lhs then the rhs of each expanded pair for the number of polymer steps required returning the count for the molecules used in the expansion."
   ]
  },
  {
   "cell_type": "code",
   "execution_count": 52,
   "metadata": {},
   "outputs": [
    {
     "name": "stdout",
     "output_type": "stream",
     "text": [
      "The most common molecule is ('O', 3045701690449) and the least common molecule is ('P', 886806912635)\n",
      " Difference between the frequency of the most common item and the least common item is: 2158894777814\n"
     ]
    }
   ],
   "source": [
    "from functools import cache\n",
    "\n",
    "program_template = polymer_template\n",
    "program_instructions = polymer_instructions.copy()\n",
    "\n",
    "@cache\n",
    "def build_pair_chain(pair: str, step: int, max_depth: int) -> Counter:\n",
    "    if step == max_depth:\n",
    "        return Counter()  # at the end of the build so just give back an empty counter.\n",
    "    step += 1\n",
    "    new_molecule = program_instructions[pair] # We have the new molecule\n",
    "    step_counter = Counter(new_molecule) # start a counting this new molecule\n",
    "    lhs_count = build_pair_chain(pair[0] + new_molecule, step, max_depth) # get the left hand side expansion\n",
    "    rhs_count = build_pair_chain(new_molecule + pair[1], step, max_depth) # then the right hand side\n",
    "    step_counter.update(lhs_count) # add the lhs count\n",
    "    step_counter.update(rhs_count) # and the rhs count\n",
    "    return step_counter\n",
    "\n",
    "molecule_counter = Counter(program_template) # we start with the initial polymer\n",
    "\n",
    "for x in range(len(program_template) -1):\n",
    "    molecule_count = build_pair_chain(program_template[x:x+2], 0, 40)\n",
    "    molecule_counter.update(molecule_count)\n",
    "\n",
    "\n",
    "molecule_counts = molecule_counter.most_common()\n",
    "most_common_molecule = molecule_counts[0]\n",
    "no_of_most_common = molecule_counts[0][1]\n",
    "least_common_molecule = molecule_counts[-1]\n",
    "print(\n",
    "    f'The most common molecule is {most_common_molecule} and the least common molecule is {least_common_molecule}\\n',\n",
    "    f\"Difference between the frequency of the most common item and the least common item is: {most_common_molecule[1] - least_common_molecule[1]}\"\n",
    ")"
   ]
  },
  {
   "cell_type": "markdown",
   "metadata": {},
   "source": [
    "For information the ```@cache``` function decorator reduces the time from probably hours (if not days) down to under 1 second!"
   ]
  }
 ],
 "metadata": {
  "interpreter": {
   "hash": "93cec69c38bad84d389aeaa7f91e1905006bdd97badbe8bc35fb9b6e193eb61c"
  },
  "kernelspec": {
   "display_name": "Python 3.9.7 64-bit ('AdventOfCode': conda)",
   "language": "python",
   "name": "python3"
  },
  "language_info": {
   "codemirror_mode": {
    "name": "ipython",
    "version": 3
   },
   "file_extension": ".py",
   "mimetype": "text/x-python",
   "name": "python",
   "nbconvert_exporter": "python",
   "pygments_lexer": "ipython3",
   "version": "3.9.7"
  },
  "orig_nbformat": 4
 },
 "nbformat": 4,
 "nbformat_minor": 2
}
