{
 "cells": [
  {
   "cell_type": "markdown",
   "metadata": {},
   "source": [
    "# Advent of Code #\n"
   ]
  },
  {
   "cell_type": "code",
   "execution_count": 192,
   "metadata": {},
   "outputs": [],
   "source": [
    "# set up the environment\n",
    "import numpy as np\n",
    "import re\n"
   ]
  },
  {
   "cell_type": "markdown",
   "metadata": {},
   "source": [
    " ## Day 5: Hydrothermal Venture ##\n",
    "\n",
    " ### Part 1 ###\n",
    "\n",
    "You come across a field of hydrothermal vents on the ocean floor! These vents constantly produce large, opaque clouds, so it would be best to avoid them if possible.\n",
    "\n",
    "They tend to form in lines; the submarine helpfully produces a list of nearby lines of vents (your puzzle input) for you to review. For example:\n",
    "```\n",
    "0,9 -> 5,9\n",
    "8,0 -> 0,8\n",
    "9,4 -> 3,4\n",
    "2,2 -> 2,1\n",
    "7,0 -> 7,4\n",
    "6,4 -> 2,0\n",
    "0,9 -> 2,9\n",
    "3,4 -> 1,4\n",
    "0,0 -> 8,8\n",
    "5,5 -> 8,2\n",
    "```\n",
    "Each line of vents is given as a line segment in the format x1,y1 -> x2,y2 where x1,y1 are the coordinates of one end the line segment and x2,y2 are the coordinates of the other end. These line segments include the points at both ends. In other words:\n",
    "\n",
    "    An entry like 1,1 -> 1,3 covers points 1,1, 1,2, and 1,3.\n",
    "    An entry like 9,7 -> 7,7 covers points 9,7, 8,7, and 7,7.\n",
    "\n",
    "For now, only consider horizontal and vertical lines: lines where either x1 = x2 or y1 = y2.\n",
    "\n",
    "So, the horizontal and vertical lines from the above list would produce the following diagram:\n",
    "```\n",
    ".......1..\n",
    "..1....1..\n",
    "..1....1..\n",
    ".......1..\n",
    ".112111211\n",
    "..........\n",
    "..........\n",
    "..........\n",
    "..........\n",
    "222111....\n",
    "```\n",
    "In this diagram, the top left corner is 0,0 and the bottom right corner is 9,9. Each position is shown as the number of lines which cover that point or . if no line covers that point. The top-left pair of 1s, for example, comes from 2,2 -> 2,1; the very bottom row is formed by the overlapping lines 0,9 -> 5,9 and 0,9 -> 2,9.\n",
    "\n",
    "To avoid the most dangerous areas, you need to determine the number of points where at least two lines overlap. In the above example, this is anywhere in the diagram with a 2 or larger - a total of 5 points.\n",
    "\n",
    "Consider only horizontal and vertical lines. At how many points do at least two lines overlap?"
   ]
  },
  {
   "cell_type": "markdown",
   "metadata": {},
   "source": [
    "### Import the data ###"
   ]
  },
  {
   "cell_type": "code",
   "execution_count": 193,
   "metadata": {},
   "outputs": [],
   "source": [
    "raw_vent_data = np.genfromtxt(\"data/vents.dat\", dtype=\"str\", delimiter=\" -> \")\n",
    "# raw_vent_data = np.genfromtxt(\"data/vent_test.dat\", dtype=\"str\", delimiter=\" -> \")\n",
    "map_size = [1000, 1000]\n",
    "\n",
    "# define a vent class\n",
    "class Vent:\n",
    "    def __init__(self) -> None:\n",
    "        self.co_ords = np.empty((2, 2), dtype=int)\n",
    "        self.vertical = False\n",
    "        self.horizontal = False\n",
    "\n",
    "    def __str__(self) -> str:\n",
    "        return f\"{self.co_ords[:]}\\n Horizontal: {self.horizontal}, Vertical: {self.vertical}\"\n",
    "\n",
    "    def create(self, raw_co_ords: str) -> None:\n",
    "        co_ord_str = f\"{raw_co_ords[0]},{raw_co_ords[1]}\".split(\",\")\n",
    "        self.co_ords = np.array(list(map(int, co_ord_str))).reshape(2, 2)\n",
    "        if self.co_ords[0][0] == self.co_ords[1][0]:\n",
    "            self.vertical = True\n",
    "        if self.co_ords[0][1] == self.co_ords[1][1]:\n",
    "            self.horizontal = True"
   ]
  },
  {
   "cell_type": "markdown",
   "metadata": {},
   "source": [
    "### Set up the Vents ###"
   ]
  },
  {
   "cell_type": "code",
   "execution_count": 194,
   "metadata": {},
   "outputs": [],
   "source": [
    "def set_vents() -> np.ndarray:\n",
    "    vents = []\n",
    "    for raw_vent in raw_vent_data:\n",
    "        vent = Vent()\n",
    "        vent.create(raw_vent)\n",
    "        vents.append(vent)\n",
    "    return vents"
   ]
  },
  {
   "cell_type": "markdown",
   "metadata": {},
   "source": [
    "### Create the vent map ###"
   ]
  },
  {
   "cell_type": "code",
   "execution_count": 195,
   "metadata": {},
   "outputs": [],
   "source": [
    "orthogonal_vent_map = np.zeros(map_size, dtype=int)"
   ]
  },
  {
   "cell_type": "markdown",
   "metadata": {},
   "source": [
    "### Mark horizontal and vetical lines on the vent_map ###\n",
    "\n",
    "Make allowances for the lines to be in any direction!"
   ]
  },
  {
   "cell_type": "code",
   "execution_count": 196,
   "metadata": {},
   "outputs": [],
   "source": [
    "vents = set_vents()\n",
    "for vent in vents:\n",
    "    step = 1\n",
    "    if vent.horizontal:\n",
    "        y = vent.co_ords[0, 1]\n",
    "        x1 = vent.co_ords[0, 0]\n",
    "        x2 = vent.co_ords[1, 0]\n",
    "        if x1 > x2:\n",
    "            step = -1\n",
    "        for x in range(x1, x2+step, step):\n",
    "            orthogonal_vent_map[y, x] += 1\n",
    "    if vent.vertical:\n",
    "        x = vent.co_ords[0,0]\n",
    "        y1 = vent.co_ords[0,1]\n",
    "        y2 = vent.co_ords[1,1]\n",
    "        if y1 > y2:\n",
    "            step = -1\n",
    "        for y in range(y1, y2+step, step):\n",
    "            orthogonal_vent_map[y, x] += 1"
   ]
  },
  {
   "cell_type": "markdown",
   "metadata": {},
   "source": [
    "### Count the number of entries greater than 1 ###"
   ]
  },
  {
   "cell_type": "code",
   "execution_count": 197,
   "metadata": {},
   "outputs": [
    {
     "name": "stdout",
     "output_type": "stream",
     "text": [
      "Number of orthogonal danger points 6856\n"
     ]
    }
   ],
   "source": [
    "orthogonal_count = np.count_nonzero(orthogonal_vent_map > 1)\n",
    "print(f'Number of orthogonal danger points {orthogonal_count}')"
   ]
  },
  {
   "cell_type": "markdown",
   "metadata": {},
   "source": [
    "### Part Two ###\n",
    "\n",
    "Unfortunately, considering only horizontal and vertical lines doesn't give you the full picture; you need to also consider diagonal lines.\n",
    "\n",
    "Because of the limits of the hydrothermal vent mapping system, the lines in your list will only ever be horizontal, vertical, or a diagonal line at exactly 45 degrees. In other words:\n",
    "\n",
    "    An entry like 1,1 -> 3,3 covers points 1,1, 2,2, and 3,3.\n",
    "    An entry like 9,7 -> 7,9 covers points 9,7, 8,8, and 7,9.\n",
    "\n",
    "Considering all lines from the above example would now produce the following diagram:\n",
    "```\n",
    "1.1....11.\n",
    ".111...2..\n",
    "..2.1.111.\n",
    "...1.2.2..\n",
    ".112313211\n",
    "...1.2....\n",
    "..1...1...\n",
    ".1.....1..\n",
    "1.......1.\n",
    "222111....\n",
    "```\n",
    "You still need to determine the number of points where at least two lines overlap. In the above example, this is still anywhere in the diagram with a 2 or larger - now a total of 12 points."
   ]
  },
  {
   "cell_type": "markdown",
   "metadata": {},
   "source": [
    "### Add the diagonal lines to the map ###\n",
    "Ignore vertical and horizontal lines as they have already been dealt with.  \n",
    "Also, normalise the co-ordinates before plotting"
   ]
  },
  {
   "cell_type": "code",
   "execution_count": 198,
   "metadata": {},
   "outputs": [],
   "source": [
    "diagonal_vent_map = np.zeros(map_size, dtype=int)\n",
    "vents = set_vents()\n",
    "for x, vent in enumerate(vents):\n",
    "    if vent.horizontal or vent.vertical:\n",
    "        continue\n",
    "    x1 = vent.co_ords[0,0]\n",
    "    x2 = vent.co_ords[1,0]\n",
    "    y = vent.co_ords[0,1]\n",
    "    y2 = vent.co_ords[1,1]\n",
    "    x_step = 1 if x2 > x1 else -1\n",
    "    y_step = 1 if y2 > y else -1\n",
    "    for x in range(x1, x2+x_step, x_step):\n",
    "            diagonal_vent_map[y,x] += 1\n",
    "            y += y_step"
   ]
  },
  {
   "cell_type": "markdown",
   "metadata": {},
   "source": [
    "### Count the revised entries greater than 2 ###"
   ]
  },
  {
   "cell_type": "code",
   "execution_count": 199,
   "metadata": {},
   "outputs": [
    {
     "name": "stdout",
     "output_type": "stream",
     "text": [
      "Number of diagonal danger points 5721\n"
     ]
    }
   ],
   "source": [
    "diagonal_count = np.count_nonzero(diagonal_vent_map > 1)\n",
    "print(f'Number of diagonal danger points {diagonal_count}')"
   ]
  },
  {
   "cell_type": "markdown",
   "metadata": {},
   "source": [
    "### Add the two maps together  and get new total of danger points ###"
   ]
  },
  {
   "cell_type": "code",
   "execution_count": 200,
   "metadata": {},
   "outputs": [
    {
     "name": "stdout",
     "output_type": "stream",
     "text": [
      "Number of full danger points 20666\n"
     ]
    }
   ],
   "source": [
    "full_vent_map = orthogonal_vent_map + diagonal_vent_map\n",
    "full_count = np.count_nonzero(full_vent_map > 1)\n",
    "print(f'Number of full danger points {full_count}')"
   ]
  }
 ],
 "metadata": {
  "interpreter": {
   "hash": "93cec69c38bad84d389aeaa7f91e1905006bdd97badbe8bc35fb9b6e193eb61c"
  },
  "kernelspec": {
   "display_name": "Python 3.9.7 64-bit ('AdventOfCode': conda)",
   "language": "python",
   "name": "python3"
  },
  "language_info": {
   "codemirror_mode": {
    "name": "ipython",
    "version": 3
   },
   "file_extension": ".py",
   "mimetype": "text/x-python",
   "name": "python",
   "nbconvert_exporter": "python",
   "pygments_lexer": "ipython3",
   "version": "3.9.7"
  },
  "orig_nbformat": 4
 },
 "nbformat": 4,
 "nbformat_minor": 2
}
