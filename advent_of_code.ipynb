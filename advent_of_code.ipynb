{
 "cells": [
  {
   "cell_type": "markdown",
   "metadata": {},
   "source": [
    "# Advent of Code #\n"
   ]
  },
  {
   "cell_type": "code",
   "execution_count": 1,
   "metadata": {},
   "outputs": [],
   "source": [
    "# set up the environment\n",
    "import numpy as np"
   ]
  },
  {
   "cell_type": "markdown",
   "metadata": {},
   "source": [
    "## Day 1: Sonar Sweep ##\n",
    "You're minding your own business on a ship at sea when the overboard alarm goes off! You rush to see if you can help. Apparently, one of the Elves tripped and accidentally sent the sleigh keys flying into the ocean!\n",
    "\n",
    "Before you know it, you're inside a submarine the Elves keep ready for situations like this. It's covered in Christmas lights (because of course it is), and it even has an experimental antenna that should be able to track the keys if you can boost its signal strength high enough; there's a little meter that indicates the antenna's signal strength by displaying 0-50 stars."
   ]
  },
  {
   "cell_type": "code",
   "execution_count": 2,
   "metadata": {},
   "outputs": [
    {
     "name": "stdout",
     "output_type": "stream",
     "text": [
      "[ 173  175  171 ... 7118 7115 7121]\n",
      "2000\n"
     ]
    }
   ],
   "source": [
    "# load the data from the source file 'data/depth.dat' and store it in an array.\n",
    "depths = np.loadtxt(\"data/depths.dat\", dtype=\"int\", delimiter=\",\", unpack=False)\n",
    "print(depths)\n",
    "print(len(depths))"
   ]
  },
  {
   "cell_type": "markdown",
   "metadata": {},
   "source": [
    "### Problem 1 ##\n",
    "As the submarine drops below the surface of the ocean, it automatically performs a sonar sweep of the nearby sea floor. On a small screen, the sonar sweep report (your puzzle input) appears: each line is a measurement of the sea floor depth as the sweep looks further and further away from the submarine."
   ]
  },
  {
   "cell_type": "code",
   "execution_count": 3,
   "metadata": {},
   "outputs": [
    {
     "name": "stdout",
     "output_type": "stream",
     "text": [
      "Number of depth increase:  1521\n"
     ]
    }
   ],
   "source": [
    "depth_increase_count = 0\n",
    "previous_depth = depths[0]\n",
    "for x in depths:\n",
    "    if x > previous_depth:\n",
    "        depth_increase_count += 1\n",
    "    previous_depth = x\n",
    "\n",
    "print(\"Number of depth increase: \", depth_increase_count)"
   ]
  },
  {
   "cell_type": "markdown",
   "metadata": {},
   "source": [
    "### Part 2 ###\n",
    "Considering every single measurement isn't as useful as you expected: there's just too much noise in the data.\n",
    "\n",
    "Instead, consider sums of a three-measurement sliding window. "
   ]
  },
  {
   "cell_type": "code",
   "execution_count": 4,
   "metadata": {},
   "outputs": [
    {
     "name": "stdout",
     "output_type": "stream",
     "text": [
      "Number of depth increase:  1543\n"
     ]
    }
   ],
   "source": [
    "# create a new array of the sliding data\n",
    "three_measurement_sums = []\n",
    "for x in range(len(depths)-2):\n",
    "    three_measurement_sums.append(depths[x]+depths[x+1]+depths[x+2])\n",
    "\n",
    "# repeat the calculation with the above data\n",
    "depth_increase_count = 0\n",
    "previous_depth = three_measurement_sums[0]\n",
    "for x in three_measurement_sums:\n",
    "    if x > previous_depth:\n",
    "        depth_increase_count += 1\n",
    "    previous_depth = x\n",
    "\n",
    "print(\"Number of depth increase: \", depth_increase_count)\n"
   ]
  },
  {
   "cell_type": "markdown",
   "metadata": {},
   "source": [
    "## Day 2: Dive! ##\n",
    "### Part One ###\n",
    "It seems like the submarine can take a series of commands like forward 1, down 2, or up 3:\n",
    "\n",
    "    forward X increases the horizontal position by X units.\n",
    "    down X increases the depth by X units.\n",
    "    up X decreases the depth by X units.\n",
    "\n",
    "Note that since you're on a submarine, down and up affect your depth, and so they have the opposite result of what you might expect.\n",
    "\n",
    "The submarine seems to already have a planned course (your puzzle input). You should probably figure out where it's going. For example:\n",
    "\n",
    "forward 5\n",
    "down 5\n",
    "forward 8\n",
    "up 3\n",
    "down 8\n",
    "forward 2\n",
    "\n",
    "Your horizontal position and depth both start at 0. The steps above would then modify them as follows:\n",
    "\n",
    "    forward 5 adds 5 to your horizontal position, a total of 5.\n",
    "    down 5 adds 5 to your depth, resulting in a value of 5.\n",
    "    forward 8 adds 8 to your horizontal position, a total of 13.\n",
    "    up 3 decreases your depth by 3, resulting in a value of 2.\n",
    "    down 8 adds 8 to your depth, resulting in a value of 10.\n",
    "    forward 2 adds 2 to your horizontal position, a total of 15.\n",
    "\n",
    "After following these instructions, you would have a horizontal position of 15 and a depth of 10. (Multiplying these together produces 150.)\n",
    "\n",
    "Calculate the horizontal position and depth you would have after following the planned course. What do you get if you multiply your final horizontal position by your final depth?"
   ]
  },
  {
   "cell_type": "code",
   "execution_count": 5,
   "metadata": {},
   "outputs": [
    {
     "name": "stdout",
     "output_type": "stream",
     "text": [
      "[('forward', 8) ('forward', 9) ('forward', 9) ('down', 3) ('forward', 9)\n",
      " ('down', 1) ('down', 7) ('down', 7) ('down', 4) ('down', 2)] ... [('down', 8) ('forward', 6) ('forward', 7) ('forward', 9) ('forward', 4)\n",
      " ('down', 3) ('up', 5) ('down', 7) ('down', 7) ('forward', 9)]\n",
      "1000\n"
     ]
    }
   ],
   "source": [
    "# Import the manoeuvreing data into an array fo tuples \n",
    "manoeuvres = np.genfromtxt(\"data/manoeuvre.dat\", dtype=\"U7, i4\", delimiter=\" \")\n",
    "print(manoeuvres[:10], '...', manoeuvres[-10:])\n",
    "print(len(manoeuvres))"
   ]
  },
  {
   "cell_type": "code",
   "execution_count": 6,
   "metadata": {},
   "outputs": [
    {
     "name": "stdout",
     "output_type": "stream",
     "text": [
      "Displacement:  2003 , Depth:  872\n",
      "Product of displacement and dept:  1746616\n"
     ]
    }
   ],
   "source": [
    "horizontal_pos = 0\n",
    "depth = 0\n",
    "for x in manoeuvres:\n",
    "    direction = x[0]\n",
    "    steps = x[1]\n",
    "    if direction == \"forward\":\n",
    "        horizontal_pos += steps\n",
    "    if direction == \"up\":\n",
    "        depth -= steps\n",
    "    if direction == \"down\":\n",
    "        depth += steps\n",
    "    \n",
    "print(\"Displacement: \", horizontal_pos, \", Depth: \", depth)\n",
    "print(\"Product of displacement and dept: \", horizontal_pos * depth)\n"
   ]
  },
  {
   "cell_type": "markdown",
   "metadata": {},
   "source": [
    "### Part Two ###\n",
    "Based on your calculations, the planned course doesn't seem to make any sense. You find the submarine manual and discover that the process is actually slightly more complicated.\n",
    "\n",
    "In addition to horizontal position and depth, you'll also need to track a third value, aim, which also starts at 0. The commands also mean something entirely different than you first thought:\n",
    "\n",
    "```\n",
    "down X increases your aim by X units.\n",
    "up X decreases your aim by X units.\n",
    "forward X does two things:\n",
    "    It increases your horizontal position by X units.\n",
    "    It increases your depth by your aim multiplied by X.\n",
    "```\n",
    "Again note that since you're on a submarine, down and up do the opposite of what you might expect: \"down\" means aiming in the positive direction.\n",
    "\n",
    "Now, the above example does something different:\n",
    "\n",
    "```\n",
    "forward 5 adds 5 to your horizontal position, a total of 5. \n",
    "    Because your aim is 0, your depth does not change.\n",
    "down 5 adds 5 to your aim, resulting in a value of 5.\n",
    "forward 8 adds 8 to your horizontal position, a total of 13. \n",
    "    Because your aim is 5, your depth increases by 8*5=40.\n",
    "up 3 decreases your aim by 3, resulting in a value of 2.\n",
    "down 8 adds 8 to your aim, resulting in a value of 10.\n",
    "forward 2 adds 2 to your horizontal position, a total of 15.\n",
    "    Because your aim is 10, your depth increases by 2*10=20 to a total of 60.\n",
    "```\n",
    "After following these new instructions, you would have a horizontal position of 15 and a depth of 60. (Multiplying these produces 900.)\n",
    "\n",
    "Using this new interpretation of the commands, calculate the horizontal position and depth you would have after following the planned course."
   ]
  },
  {
   "cell_type": "code",
   "execution_count": 7,
   "metadata": {},
   "outputs": [
    {
     "name": "stdout",
     "output_type": "stream",
     "text": [
      "Displacement:  2003 , Depth:  869681\n",
      "Product of displacement and dept:  1741971043\n"
     ]
    }
   ],
   "source": [
    "horizontal_pos = 0\n",
    "depth = 0\n",
    "aim = 0\n",
    "for x in manoeuvres:\n",
    "    direction = x[0]\n",
    "    steps = x[1]\n",
    "    if direction == \"up\":\n",
    "        aim -= steps\n",
    "    if direction == \"down\":\n",
    "        aim += steps\n",
    "    if direction == \"forward\":\n",
    "        horizontal_pos += steps\n",
    "        depth += aim * steps\n",
    "\n",
    "    \n",
    "print(\"Displacement: \", horizontal_pos, \", Depth: \", depth)\n",
    "print(\"Product of displacement and dept: \", horizontal_pos * depth)"
   ]
  },
  {
   "cell_type": "markdown",
   "metadata": {},
   "source": [
    "## Day 3: Binary Diagnostic ##\n",
    "### Part 1 ###\n",
    "The submarine has been making some odd creaking noises, so you ask it to produce a diagnostic report just in case.\n",
    "\n",
    "The diagnostic report (your puzzle input) consists of a list of binary numbers which, when decoded properly, can tell you many useful things about the conditions of the submarine. The first parameter to check is the power consumption.\n",
    "\n",
    "You need to use the binary numbers in the diagnostic report to generate two new binary numbers (called the gamma rate and the epsilon rate). The power consumption can then be found by multiplying the gamma rate by the epsilon rate.\n",
    "\n",
    "Each bit in the gamma rate can be determined by finding the most common bit in the corresponding position of all numbers in the diagnostic report. For example, given the following diagnostic report:\n",
    "\n",
    "```\n",
    "00100\n",
    "11110\n",
    "10110\n",
    "10111\n",
    "10101\n",
    "01111\n",
    "00111\n",
    "11100\n",
    "10000\n",
    "11001\n",
    "00010\n",
    "01010\n",
    "```\n",
    "Considering only the first bit of each number, there are five 0 bits and seven 1 bits. Since the most common bit is 1, the first bit of the gamma rate is 1.\n",
    "\n",
    "The most common second bit of the numbers in the diagnostic report is 0, so the second bit of the gamma rate is 0.\n",
    "\n",
    "The most common value of the third, fourth, and fifth bits are 1, 1, and 0, respectively, and so the final three bits of the gamma rate are 110.\n",
    "\n",
    "So, the gamma rate is the binary number 10110, or 22 in decimal.\n",
    "\n",
    "The epsilon rate is calculated in a similar way; rather than use the most common bit, the least common bit from each position is used. So, the epsilon rate is 01001, or 9 in decimal. Multiplying the gamma rate (22) by the epsilon rate (9) produces the power consumption, 198.\n",
    "\n",
    "Use the binary numbers in your diagnostic report to calculate the gamma rate and epsilon rate, then multiply them together. What is the power consumption of the submarine? (Be sure to represent your answer in decimal, not binary.)"
   ]
  },
  {
   "cell_type": "code",
   "execution_count": 8,
   "metadata": {},
   "outputs": [
    {
     "name": "stdout",
     "output_type": "stream",
     "text": [
      "['111010101100' '100001001100' '000111101100' '100100000000'\n",
      " '001001001110' '100110101011' '001001100101' '010000010110'\n",
      " '011011001001' '001001000101']\n",
      "1000\n"
     ]
    }
   ],
   "source": [
    "# Import the data into a text array - easier for getting positional data\n",
    "diagnostics = np.genfromtxt(\"data/diagnostic.dat\", dtype=\"U\")\n",
    "print(diagnostics[:10])\n",
    "print(len(diagnostics))"
   ]
  },
  {
   "cell_type": "code",
   "execution_count": 9,
   "metadata": {},
   "outputs": [
    {
     "name": "stdout",
     "output_type": "stream",
     "text": [
      "12\n"
     ]
    }
   ],
   "source": [
    "# get the number of bits in the data\n",
    "bits = len(diagnostics[0])\n",
    "print(bits)"
   ]
  },
  {
   "cell_type": "code",
   "execution_count": 10,
   "metadata": {},
   "outputs": [
    {
     "name": "stdout",
     "output_type": "stream",
     "text": [
      "Gama rate:  3903\n",
      "Epsilon rate:  192\n",
      "Power Consumption:  749376\n"
     ]
    }
   ],
   "source": [
    "epsilon_str = \"\"\n",
    "gamma_str = \"\"\n",
    "\n",
    "for x in range(len(diagnostics[0])):\n",
    "    gamma_val = 0\n",
    "    for y in diagnostics:\n",
    "        if y[x] == '1':\n",
    "            gamma_val += 1\n",
    "        else:\n",
    "            gamma_val -= 1\n",
    "\n",
    "# take advantage of the fact that the epsilon value == not(gamma value)\n",
    "# (could be done later on the whole string but just as easy to build it now) \n",
    "    if gamma_val > 0:\n",
    "        gamma_str += '1'\n",
    "        epsilon_str +=  '0'\n",
    "    else:\n",
    "        gamma_str += '0'\n",
    "        epsilon_str += '1'\n",
    "\n",
    "# convert the base 2 strings to integers \n",
    "gamma_rate = int(gamma_str, 2)\n",
    "epsilon_rate = int(epsilon_str, 2)\n",
    "\n",
    "power_consumptions = gamma_rate * epsilon_rate\n",
    "\n",
    "print(\"Gama rate: \", gamma_rate)\n",
    "print(\"Epsilon rate: \", epsilon_rate)\n",
    "print(\"Power Consumption: \", power_consumptions)\n"
   ]
  },
  {
   "cell_type": "markdown",
   "metadata": {},
   "source": [
    "### Part Two ###\n",
    "\n",
    "Next, you should verify the life support rating, which can be determined by multiplying the oxygen generator rating by the CO2 scrubber rating.\n",
    "\n",
    "Both the oxygen generator rating and the CO2 scrubber rating are values that can be found in your diagnostic report - finding them is the tricky part. Both values are located using a similar process that involves filtering out values until only one remains. Before searching for either rating value, start with the full list of binary numbers from your diagnostic report and consider just the first bit of those numbers. Then:\n",
    "\n",
    "    Keep only numbers selected by the bit criteria for the type of rating value for which you are searching.\n",
    "        Discard numbers which do not match the bit criteria.\n",
    "    If you only have one number left, stop; this is the rating value for which you are searching.\n",
    "    Otherwise, repeat the process, considering the next bit to the right.\n",
    "\n",
    "The bit criteria depends on which type of rating value you want to find:\n",
    "\n",
    "To find oxygen generator rating, determine the most common value (0 or 1) in the current bit position, and keep only numbers with that bit in that position. If 0 and 1 are equally common, keep values with a 1 in the position being considered.\n",
    "To find CO2 scrubber rating, determine the least common value (0 or 1) in the current bit position, and keep only numbers with that bit in that position. If 0 and 1 are equally common, keep values with a 0 in the position being considered.\n",
    "\n",
    "For example, to determine the oxygen generator rating value using the same example diagnostic report from above:\n",
    "\n",
    "    Start with all 12 numbers and consider only the first bit of each number. \n",
    "        There are more 1 bits (7) than 0 bits (5)\n",
    "        keep only the 7 numbers with a 1 in the first position:\n",
    "            11110, 10110, 10111, 10101, 11100, 10000, and 11001.\n",
    "    Then, consider the second bit of the 7 remaining numbers:\n",
    "        there are more 0 bits (4) than 1 bits (3)\n",
    "        keep only the 4 numbers with a 0 in the second position:\n",
    "            10110, 10111, 10101, and 10000.\n",
    "    In the third position,\n",
    "        three of the four numbers have a 1\n",
    "        keep those three:\n",
    "            10110, 10111, and 10101.\n",
    "    In the fourth position,\n",
    "        two of the three numbers have a 1\n",
    "        keep those two:\n",
    "            10110 and 10111.\n",
    "    In the fifth position,\n",
    "        there are an equal number of 0 bits and 1 bits (one each).\n",
    "        to find the oxygen generator rating, keep the number with a 1 in that position:\n",
    "            10111.\n",
    "    As there is only one number left, stop;\n",
    "        the oxygen generator rating is 10111, or 23 in decimal.\n",
    "\n",
    "Then, to determine the CO2 scrubber rating value from the same example above:\n",
    "\n",
    "    Start again with all 12 numbers and consider only the first bit of each number.\n",
    "        There are fewer 0 bits (5) than 1 bits (7)\n",
    "        keep only the 5 numbers with a 0 in the first position:\n",
    "            00100, 01111, 00111, 00010, and 01010.\n",
    "    Then, consider the second bit of the 5 remaining numbers:\n",
    "        there are fewer 1 bits (2) than 0 bits (3)\n",
    "        keep only the 2 numbers with a 1 in the second position:\n",
    "            01111 and 01010.\n",
    "    In the third position, there are an equal number of 0 bits and 1 bits (one each).\n",
    "        to find the CO2 scrubber rating, keep the number with a 0 in that position:\n",
    "            01010.\n",
    "    As there is only one number left, stop; \n",
    "        the CO2 scrubber rating is 01010, or 10 in decimal.\n",
    "\n",
    "Finally, to find the life support rating, multiply the oxygen generator rating (23) by the CO2 scrubber rating (10) to get 230.\n",
    "\n",
    "Use the binary numbers in your diagnostic report to calculate the oxygen generator rating and CO2 scrubber rating, then multiply them together. What is the life support rating of the submarine?"
   ]
  },
  {
   "cell_type": "code",
   "execution_count": 11,
   "metadata": {},
   "outputs": [
    {
     "name": "stdout",
     "output_type": "stream",
     "text": [
      "O2 Generator rating:  3871\n",
      "CO2 Scrubber rating:  613\n",
      "Life Support rating:  2372923\n"
     ]
    }
   ],
   "source": [
    "# create the arrays that will be reduced to a single value\n",
    "o2_array = diagnostics.copy()\n",
    "co2_array = diagnostics.copy()\n",
    "\n",
    "def reduce_array(in_array: np.ndarray, check_greater: bool, bit_pos: int):\n",
    "    \n",
    "    # Returns the reduced array that includes only the required roww\n",
    "\n",
    "    # Attributes\n",
    "    # in_array:  numpy:np.ndarray\n",
    "    #    the array whose rows are to be reduced\n",
    "    # check_greater: bool\n",
    "    #    are we checking for a greater preponderance of bits (O2 generator) or fewer (CO2 scrubber)\n",
    "    # bit_pos: int\n",
    "    #    the bit position to check\n",
    "    \n",
    "    total_1_bits = 0\n",
    "    total_0_bits = 0\n",
    "    for x in in_array:\n",
    "        if x[bit_pos] == '1':\n",
    "            total_1_bits += 1\n",
    "        else:\n",
    "            total_0_bits += 1\n",
    "\n",
    "    temp_array: np.ndarray = []\n",
    "    for y in in_array:\n",
    "        bit_value = y[bit_pos]\n",
    "        if check_greater:\n",
    "            want_1s = True if total_1_bits >= total_0_bits else False\n",
    "            if want_1s and bit_value == '1':\n",
    "                temp_array.append(y)\n",
    "            else:\n",
    "                if not want_1s and bit_value == '0':\n",
    "                    temp_array.append(y)\n",
    "        else:\n",
    "            want_0s = True if total_0_bits <= total_1_bits else False\n",
    "            if want_0s and bit_value =='0':\n",
    "                temp_array.append(y)\n",
    "            else:\n",
    "                if not want_0s and bit_value =='1':\n",
    "                    temp_array.append(y)\n",
    "\n",
    "    return temp_array\n",
    "\n",
    "number_of_bits = len(o2_array[0])\n",
    "\n",
    "check_bit = 0\n",
    "while check_bit < number_of_bits:\n",
    "    if len(o2_array) > 1:\n",
    "        # check the Oxygen Generator - pick the greatest bit value for retaining\n",
    "        o2_array =  reduce_array(o2_array, True, check_bit)\n",
    "    if len(co2_array) >1:\n",
    "        # check the CO2 Scrubber - pick the least bit value for retaining\n",
    "        co2_array = reduce_array(co2_array, False, check_bit)\n",
    "    check_bit += 1\n",
    "\n",
    "  \n",
    "# convert the reduced arrays to integers\n",
    "o2_generator_rating = int(o2_array[0], 2)\n",
    "co2_scrubber_rating = int(co2_array[0], 2)\n",
    "\n",
    "life_support_rating = o2_generator_rating * co2_scrubber_rating\n",
    "\n",
    "print(\"O2 Generator rating: \", o2_generator_rating)\n",
    "print(\"CO2 Scrubber rating: \", co2_scrubber_rating)\n",
    "\n",
    "print(\"Life Support rating: \", life_support_rating)\n"
   ]
  },
  {
   "cell_type": "markdown",
   "metadata": {},
   "source": [
    "## Day 4: Giant Squid ##\n",
    "\n",
    "### Part 1 ###\n",
    "You're already almost 1.5km (almost a mile) below the surface of the ocean, already so deep that you can't see any sunlight. What you can see, however, is a giant squid that has attached itself to the outside of your submarine.\n",
    "\n",
    "Maybe it wants to play bingo?\n",
    "\n",
    "Bingo is played on a set of boards each consisting of a 5x5 grid of numbers. Numbers are chosen at random, and the chosen number is marked on all boards on which it appears. (Numbers may not appear on all boards.) If all numbers in any row or any column of a board are marked, that board wins. (Diagonals don't count.)\n",
    "\n",
    "The submarine has a bingo subsystem to help passengers (currently, you and the giant squid) pass the time. It automatically generates a random order in which to draw numbers and a random set of boards (your puzzle input). For example:\n",
    "\n",
    "`7,4,9,5,11,17,23,2,0,14,21,24,10,16,13,6,15,25,12,22,18,20,8,19,3,26,1`\n",
    "\n",
    "```\n",
    "22 13 17 11  0\n",
    " 8  2 23  4 24\n",
    "21  9 14 16  7\n",
    " 6 10  3 18  5\n",
    " 1 12 20 15 19\n",
    "\n",
    " 3 15  0  2 22\n",
    " 9 18 13 17  5\n",
    "19  8  7 25 23\n",
    "20 11 10 24  4\n",
    "14 21 16 12  6\n",
    "\n",
    "14 21 17 24  4\n",
    "10 16 15  9 19\n",
    "18  8 23 26 20\n",
    "22 11 13  6  5\n",
    " 2  0 12  3  7\n",
    "```\n",
    "After the first five numbers are drawn `(7, 4, 9, 5, and 11)`, there are no winners, but the boards are marked as follows (shown here adjacent to each other to save space):\n",
    "```\n",
    "22 13 17 11  0         3 15  0  2 22        14 21 17 24  4\n",
    " 8  2 23  4 24         9 18 13 17  5        10 16 15  9 19\n",
    "21  9 14 16  7        19  8  7 25 23        18  8 23 26 20\n",
    " 6 10  3 18  5        20 11 10 24  4        22 11 13  6  5\n",
    " 1 12 20 15 19        14 21 16 12  6         2  0 12  3  7\n",
    "```\n",
    "After the next six numbers are drawn `(17, 23, 2, 0, 14, and 21)`, there are still no winners:\n",
    "```\n",
    "22 13 17 11  0         3 15  0  2 22        14 21 17 24  4\n",
    " 8  2 23  4 24         9 18 13 17  5        10 16 15  9 19\n",
    "21  9 14 16  7        19  8  7 25 23        18  8 23 26 20\n",
    " 6 10  3 18  5        20 11 10 24  4        22 11 13  6  5\n",
    " 1 12 20 15 19        14 21 16 12  6         2  0 12  3  7\n",
    "```\n",
    "Finally, `24` is drawn:\n",
    "```\n",
    "22 13 17 11  0         3 15  0  2 22        14 21 17 24  4\n",
    " 8  2 23  4 24         9 18 13 17  5        10 16 15  9 19\n",
    "21  9 14 16  7        19  8  7 25 23        18  8 23 26 20\n",
    " 6 10  3 18  5        20 11 10 24  4        22 11 13  6  5\n",
    " 1 12 20 15 19        14 21 16 12  6         2  0 12  3  7\n",
    "```\n",
    "At this point, the third board wins because it has at least one complete row or column of marked numbers (in this case, the entire top row is marked: `14 21 17 24 4`).\n",
    "\n",
    "The score of the winning board can now be calculated. Start by finding the sum of all unmarked numbers on that board; in this case, the sum is 188. Then, multiply that sum by the number that was just called when the board won, 24, to get the final score, 188 * 24 = 4512.\n",
    "\n",
    "To guarantee victory against the giant squid, figure out which board will win first. What will your final score be if you choose that board?"
   ]
  },
  {
   "cell_type": "markdown",
   "metadata": {},
   "source": [
    "### Inport the data and define a bingo card ###"
   ]
  },
  {
   "cell_type": "code",
   "execution_count": 20,
   "metadata": {},
   "outputs": [],
   "source": [
    "# Import the data into array \n",
    "bingo_calls = np.genfromtxt(\"data/bingo_calls.dat\", dtype=\"i4\", delimiter=',')\n",
    "raw_cards = np.genfromtxt(\"data/bingo_cards.dat\", dtype=\"i4\").reshape(100,5,5)\n",
    "\n",
    "# define a bingo_card\n",
    "class BingoCard(object):\n",
    "    # A bingo card consists of a 6 x 6 matrix\n",
    "    # rows 1 - 5 and columns 1 - 5 contain the cards numbers\n",
    "    # row 6 column 1 - 5 contains the count of the numbers called in that column\n",
    "    # column 6  rows 1 -5 contains the count of the numbers called in that row\n",
    "    # row 6 column 6 indicates a winning card - if any of row 6 or column 6 reaches 5\n",
    "\n",
    "    def __init__(self) -> None:\n",
    "        self.card = np.zeros((6,6), dtype=\"i4\")\n",
    "        self.totals = 0\n",
    "        self.card_no = 0\n",
    "        self.last_call = -1\n",
    "        self.__has_won = False\n",
    "        self.no_of_checks = 0\n",
    "        \n",
    "\n",
    "    def __str__(self) -> str:\n",
    "        card = f'{self.card[:]}'\n",
    "        return card\n",
    "\n",
    "    def build(self, lines:np.ndarray, card_no: int) -> None:\n",
    "        self.totals = np.sum(lines)\n",
    "        self.card = np.column_stack((lines, [5, 5, 5, 5, 5]))\n",
    "        self.card = np.row_stack((self.card, [5, 5, 5, 5, 5, 0]))\n",
    "        self.card_no = card_no\n",
    "\n",
    "    def check_number(self, number) -> bool:\n",
    "        if self.__has_won:\n",
    "            return True\n",
    "        self.no_of_checks += 1\n",
    "        res = np.where(self.card[:5, :5] == number)\n",
    "        if res[0].size == 0:\n",
    "            return False\n",
    "        self.last_call = number\n",
    "        row = res[0]\n",
    "        col = res[1]\n",
    "        self.card[row,5] -= 1\n",
    "        self.card[5,col] -= 1\n",
    "        self.card[row, col] *= -1\n",
    "        self. totals -= number\n",
    "        if self.card[row,5] == 0 or self.card[5, col] == 0:\n",
    "            self.__has_won = True\n",
    "            return True\n",
    "\n",
    "        return False\n",
    "\n",
    "    def unchecked_sum(self) -> int:\n",
    "        return self.totals\n",
    "\n",
    "    def is_winner(self) -> bool:\n",
    "        return self.__has_won\n",
    "    \n"
   ]
  },
  {
   "cell_type": "markdown",
   "metadata": {},
   "source": [
    "### Set up the board ##"
   ]
  },
  {
   "cell_type": "code",
   "execution_count": 21,
   "metadata": {},
   "outputs": [],
   "source": [
    "def set_bingo_cards() -> np.ndarray:\n",
    "    cards = []\n",
    "    for x, raw_card in enumerate(raw_cards):\n",
    "        card = BingoCard()\n",
    "        card.build(raw_card, x+1)\n",
    "        cards.append(card)\n",
    "    return cards\n",
    "\n"
   ]
  },
  {
   "cell_type": "markdown",
   "metadata": {},
   "source": [
    "### Check for the first winning card ###"
   ]
  },
  {
   "cell_type": "code",
   "execution_count": 22,
   "metadata": {},
   "outputs": [
    {
     "name": "stdout",
     "output_type": "stream",
     "text": [
      "Card 50 is a winner!\n",
      "[[-15  56 -39  57  40   3]\n",
      " [-67 -59  26  30  90   3]\n",
      " [-84  -2 -41 -25  -7   0]\n",
      " [ 96 -23  79  99  85   4]\n",
      " [ 13  10  86  51  53   5]\n",
      " [  2   2   3   4   4   0]]\n",
      "Last call was 41 and the total of uncheched numbers is 871\n",
      "Final Score: 35711\n"
     ]
    }
   ],
   "source": [
    "bingo_cards = set_bingo_cards()\n",
    "\n",
    "found_winner = False\n",
    "winning_card = None\n",
    "last_call = -1\n",
    "for call in bingo_calls:\n",
    "    last_call = call\n",
    "    for card in bingo_cards:\n",
    "        if card.check_number(call):\n",
    "            found_winner = True\n",
    "            winning_card = card\n",
    "            break\n",
    "    if found_winner:\n",
    "        break\n",
    "\n",
    "if winning_card :\n",
    "    unchecked_score = winning_card.unchecked_sum()\n",
    "    print('Card {} is a winner!\\n{}'.format(winning_card.card_no, winning_card))\n",
    "    print('Last call was {} and the total of uncheched numbers is {}'.format(\n",
    "        winning_card.last_call, unchecked_score\n",
    "    ))\n",
    "    print('Final Score: {}'.format(unchecked_score * last_call))\n"
   ]
  },
  {
   "cell_type": "markdown",
   "metadata": {},
   "source": [
    "### Reset the board and find the last winning card ###\n",
    "\n",
    "This time play all the numbers in the call list.  At the end we check each ***winning*** card and the one with the highest number of checks before winning is the one that is required. "
   ]
  },
  {
   "cell_type": "code",
   "execution_count": 27,
   "metadata": {},
   "outputs": [
    {
     "name": "stdout",
     "output_type": "stream",
     "text": [
      "Card 31\n",
      "[[  9 -93 -65 -94 -29   1]\n",
      " [ -2  80  -7  16 -79   2]\n",
      " [-11  -5 -21  73 -50   1]\n",
      " [-20 -70 -37 -48  85   1]\n",
      " [-99   3 -55 -58  -8   1]\n",
      " [  1   2   0   2   1   0]]\n",
      "is the last winner!\n",
      "Last call was 21 and the total of uncheched numbers is 266\n",
      "Final Score: 5586\n"
     ]
    }
   ],
   "source": [
    "bingo_cards = set_bingo_cards()\n",
    "\n",
    "last_call_ordinal = -1\n",
    "bingo_card = None\n",
    "\n",
    "for call in bingo_calls:\n",
    "    for card in bingo_cards:\n",
    "        card.check_number(call)\n",
    "\n",
    "winning_card = None\n",
    "max_calls = 0\n",
    "for card in bingo_cards:\n",
    "    if card.is_winner():\n",
    "        card_checks = card.no_of_checks\n",
    "        if card_checks > max_calls:\n",
    "            max_calls = card_checks\n",
    "            winning_card = card\n",
    "    \n",
    "\n",
    "if winning_card:\n",
    "    unchecked_score = winning_card.unchecked_sum()\n",
    "    last_call = winning_card.last_call\n",
    "    print('Card {}\\n{}\\nis the last winner!'.format(winning_card.card_no, winning_card))\n",
    "    print('Last call was {} and the total of uncheched numbers is {}'.format(\n",
    "        last_call, unchecked_score\n",
    "    ))\n",
    "    print('Final Score: {}'.format(unchecked_score * last_call))"
   ]
  },
  {
   "cell_type": "markdown",
   "metadata": {},
   "source": [
    "Day 5: Hydrothermal Venture ---\n",
    "\n",
    "You come across a field of hydrothermal vents on the ocean floor! These vents constantly produce large, opaque clouds, so it would be best to avoid them if possible.\n",
    "\n",
    "They tend to form in lines; the submarine helpfully produces a list of nearby lines of vents (your puzzle input) for you to review. For example:\n",
    "\n",
    "0,9 -> 5,9\n",
    "8,0 -> 0,8\n",
    "9,4 -> 3,4\n",
    "2,2 -> 2,1\n",
    "7,0 -> 7,4\n",
    "6,4 -> 2,0\n",
    "0,9 -> 2,9\n",
    "3,4 -> 1,4\n",
    "0,0 -> 8,8\n",
    "5,5 -> 8,2\n",
    "\n",
    "Each line of vents is given as a line segment in the format x1,y1 -> x2,y2 where x1,y1 are the coordinates of one end the line segment and x2,y2 are the coordinates of the other end. These line segments include the points at both ends. In other words:\n",
    "\n",
    "    An entry like 1,1 -> 1,3 covers points 1,1, 1,2, and 1,3.\n",
    "    An entry like 9,7 -> 7,7 covers points 9,7, 8,7, and 7,7.\n",
    "\n",
    "For now, only consider horizontal and vertical lines: lines where either x1 = x2 or y1 = y2.\n",
    "\n",
    "So, the horizontal and vertical lines from the above list would produce the following diagram:\n",
    "\n",
    ".......1..\n",
    "..1....1..\n",
    "..1....1..\n",
    ".......1..\n",
    ".112111211\n",
    "..........\n",
    "..........\n",
    "..........\n",
    "..........\n",
    "222111....\n",
    "\n",
    "In this diagram, the top left corner is 0,0 and the bottom right corner is 9,9. Each position is shown as the number of lines which cover that point or . if no line covers that point. The top-left pair of 1s, for example, comes from 2,2 -> 2,1; the very bottom row is formed by the overlapping lines 0,9 -> 5,9 and 0,9 -> 2,9.\n",
    "\n",
    "To avoid the most dangerous areas, you need to determine the number of points where at least two lines overlap. In the above example, this is anywhere in the diagram with a 2 or larger - a total of 5 points.\n",
    "\n",
    "Consider only horizontal and vertical lines. At how many points do at least two lines overlap?"
   ]
  },
  {
   "cell_type": "code",
   "execution_count": null,
   "metadata": {},
   "outputs": [],
   "source": []
  }
 ],
 "metadata": {
  "interpreter": {
   "hash": "93cec69c38bad84d389aeaa7f91e1905006bdd97badbe8bc35fb9b6e193eb61c"
  },
  "kernelspec": {
   "display_name": "Python 3.9.7 64-bit ('AdventOfCode': conda)",
   "language": "python",
   "name": "python3"
  },
  "language_info": {
   "codemirror_mode": {
    "name": "ipython",
    "version": 3
   },
   "file_extension": ".py",
   "mimetype": "text/x-python",
   "name": "python",
   "nbconvert_exporter": "python",
   "pygments_lexer": "ipython3",
   "version": "3.9.7"
  },
  "orig_nbformat": 4
 },
 "nbformat": 4,
 "nbformat_minor": 2
}
