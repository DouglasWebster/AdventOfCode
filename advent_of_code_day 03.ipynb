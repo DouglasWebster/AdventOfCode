{
 "cells": [
  {
   "cell_type": "markdown",
   "metadata": {},
   "source": [
    "# Advent of Code #\n"
   ]
  },
  {
   "cell_type": "code",
   "execution_count": 1,
   "metadata": {},
   "outputs": [],
   "source": [
    "# set up the environment\n",
    "import numpy as np"
   ]
  },
  {
   "cell_type": "markdown",
   "metadata": {},
   "source": [
    "## Day 3: Binary Diagnostic ##\n",
    "### Part 1 ###\n",
    "The submarine has been making some odd creaking noises, so you ask it to produce a diagnostic report just in case.\n",
    "\n",
    "The diagnostic report (your puzzle input) consists of a list of binary numbers which, when decoded properly, can tell you many useful things about the conditions of the submarine. The first parameter to check is the power consumption.\n",
    "\n",
    "You need to use the binary numbers in the diagnostic report to generate two new binary numbers (called the gamma rate and the epsilon rate). The power consumption can then be found by multiplying the gamma rate by the epsilon rate.\n",
    "\n",
    "Each bit in the gamma rate can be determined by finding the most common bit in the corresponding position of all numbers in the diagnostic report. For example, given the following diagnostic report:\n",
    "\n",
    "```\n",
    "00100\n",
    "11110\n",
    "10110\n",
    "10111\n",
    "10101\n",
    "01111\n",
    "00111\n",
    "11100\n",
    "10000\n",
    "11001\n",
    "00010\n",
    "01010\n",
    "```\n",
    "Considering only the first bit of each number, there are five 0 bits and seven 1 bits. Since the most common bit is 1, the first bit of the gamma rate is 1.\n",
    "\n",
    "The most common second bit of the numbers in the diagnostic report is 0, so the second bit of the gamma rate is 0.\n",
    "\n",
    "The most common value of the third, fourth, and fifth bits are 1, 1, and 0, respectively, and so the final three bits of the gamma rate are 110.\n",
    "\n",
    "So, the gamma rate is the binary number 10110, or 22 in decimal.\n",
    "\n",
    "The epsilon rate is calculated in a similar way; rather than use the most common bit, the least common bit from each position is used. So, the epsilon rate is 01001, or 9 in decimal. Multiplying the gamma rate (22) by the epsilon rate (9) produces the power consumption, 198.\n",
    "\n",
    "Use the binary numbers in your diagnostic report to calculate the gamma rate and epsilon rate, then multiply them together. What is the power consumption of the submarine? (Be sure to represent your answer in decimal, not binary.)"
   ]
  },
  {
   "cell_type": "code",
   "execution_count": 2,
   "metadata": {},
   "outputs": [
    {
     "name": "stdout",
     "output_type": "stream",
     "text": [
      "['111010101100' '100001001100' '000111101100' '100100000000'\n",
      " '001001001110' '100110101011' '001001100101' '010000010110'\n",
      " '011011001001' '001001000101']\n",
      "1000\n"
     ]
    }
   ],
   "source": [
    "# Import the data into a text array - easier for getting positional data\n",
    "diagnostics = np.genfromtxt(\"data/diagnostic.dat\", dtype=\"U\")\n",
    "print(diagnostics[:10])\n",
    "print(len(diagnostics))"
   ]
  },
  {
   "cell_type": "code",
   "execution_count": 3,
   "metadata": {},
   "outputs": [
    {
     "name": "stdout",
     "output_type": "stream",
     "text": [
      "12\n"
     ]
    }
   ],
   "source": [
    "# get the number of bits in the data\n",
    "bits = len(diagnostics[0])\n",
    "print(bits)"
   ]
  },
  {
   "cell_type": "code",
   "execution_count": 4,
   "metadata": {},
   "outputs": [
    {
     "name": "stdout",
     "output_type": "stream",
     "text": [
      "Gama rate:  3903\n",
      "Epsilon rate:  192\n",
      "Power Consumption:  749376\n"
     ]
    }
   ],
   "source": [
    "epsilon_str = \"\"\n",
    "gamma_str = \"\"\n",
    "\n",
    "for x in range(len(diagnostics[0])):\n",
    "    gamma_val = 0\n",
    "    for y in diagnostics:\n",
    "        if y[x] == '1':\n",
    "            gamma_val += 1\n",
    "        else:\n",
    "            gamma_val -= 1\n",
    "\n",
    "# take advantage of the fact that the epsilon value == not(gamma value)\n",
    "# (could be done later on the whole string but just as easy to build it now) \n",
    "    if gamma_val > 0:\n",
    "        gamma_str += '1'\n",
    "        epsilon_str +=  '0'\n",
    "    else:\n",
    "        gamma_str += '0'\n",
    "        epsilon_str += '1'\n",
    "\n",
    "# convert the base 2 strings to integers \n",
    "gamma_rate = int(gamma_str, 2)\n",
    "epsilon_rate = int(epsilon_str, 2)\n",
    "\n",
    "power_consumptions = gamma_rate * epsilon_rate\n",
    "\n",
    "print(\"Gama rate: \", gamma_rate)\n",
    "print(\"Epsilon rate: \", epsilon_rate)\n",
    "print(\"Power Consumption: \", power_consumptions)\n"
   ]
  },
  {
   "cell_type": "markdown",
   "metadata": {},
   "source": [
    "### Part Two ###\n",
    "\n",
    "Next, you should verify the life support rating, which can be determined by multiplying the oxygen generator rating by the CO2 scrubber rating.\n",
    "\n",
    "Both the oxygen generator rating and the CO2 scrubber rating are values that can be found in your diagnostic report - finding them is the tricky part. Both values are located using a similar process that involves filtering out values until only one remains. Before searching for either rating value, start with the full list of binary numbers from your diagnostic report and consider just the first bit of those numbers. Then:\n",
    "\n",
    "    Keep only numbers selected by the bit criteria for the type of rating value for which you are searching.\n",
    "        Discard numbers which do not match the bit criteria.\n",
    "    If you only have one number left, stop; this is the rating value for which you are searching.\n",
    "    Otherwise, repeat the process, considering the next bit to the right.\n",
    "\n",
    "The bit criteria depends on which type of rating value you want to find:\n",
    "\n",
    "To find oxygen generator rating, determine the most common value (0 or 1) in the current bit position, and keep only numbers with that bit in that position. If 0 and 1 are equally common, keep values with a 1 in the position being considered.\n",
    "To find CO2 scrubber rating, determine the least common value (0 or 1) in the current bit position, and keep only numbers with that bit in that position. If 0 and 1 are equally common, keep values with a 0 in the position being considered.\n",
    "\n",
    "For example, to determine the oxygen generator rating value using the same example diagnostic report from above:\n",
    "\n",
    "    Start with all 12 numbers and consider only the first bit of each number. \n",
    "        There are more 1 bits (7) than 0 bits (5)\n",
    "        keep only the 7 numbers with a 1 in the first position:\n",
    "            11110, 10110, 10111, 10101, 11100, 10000, and 11001.\n",
    "    Then, consider the second bit of the 7 remaining numbers:\n",
    "        there are more 0 bits (4) than 1 bits (3)\n",
    "        keep only the 4 numbers with a 0 in the second position:\n",
    "            10110, 10111, 10101, and 10000.\n",
    "    In the third position,\n",
    "        three of the four numbers have a 1\n",
    "        keep those three:\n",
    "            10110, 10111, and 10101.\n",
    "    In the fourth position,\n",
    "        two of the three numbers have a 1\n",
    "        keep those two:\n",
    "            10110 and 10111.\n",
    "    In the fifth position,\n",
    "        there are an equal number of 0 bits and 1 bits (one each).\n",
    "        to find the oxygen generator rating, keep the number with a 1 in that position:\n",
    "            10111.\n",
    "    As there is only one number left, stop;\n",
    "        the oxygen generator rating is 10111, or 23 in decimal.\n",
    "\n",
    "Then, to determine the CO2 scrubber rating value from the same example above:\n",
    "\n",
    "    Start again with all 12 numbers and consider only the first bit of each number.\n",
    "        There are fewer 0 bits (5) than 1 bits (7)\n",
    "        keep only the 5 numbers with a 0 in the first position:\n",
    "            00100, 01111, 00111, 00010, and 01010.\n",
    "    Then, consider the second bit of the 5 remaining numbers:\n",
    "        there are fewer 1 bits (2) than 0 bits (3)\n",
    "        keep only the 2 numbers with a 1 in the second position:\n",
    "            01111 and 01010.\n",
    "    In the third position, there are an equal number of 0 bits and 1 bits (one each).\n",
    "        to find the CO2 scrubber rating, keep the number with a 0 in that position:\n",
    "            01010.\n",
    "    As there is only one number left, stop; \n",
    "        the CO2 scrubber rating is 01010, or 10 in decimal.\n",
    "\n",
    "Finally, to find the life support rating, multiply the oxygen generator rating (23) by the CO2 scrubber rating (10) to get 230.\n",
    "\n",
    "Use the binary numbers in your diagnostic report to calculate the oxygen generator rating and CO2 scrubber rating, then multiply them together. What is the life support rating of the submarine?"
   ]
  },
  {
   "cell_type": "code",
   "execution_count": 5,
   "metadata": {},
   "outputs": [
    {
     "name": "stdout",
     "output_type": "stream",
     "text": [
      "O2 Generator rating:  3871\n",
      "CO2 Scrubber rating:  613\n",
      "Life Support rating:  2372923\n"
     ]
    }
   ],
   "source": [
    "# create the arrays that will be reduced to a single value\n",
    "o2_array = diagnostics.copy()\n",
    "co2_array = diagnostics.copy()\n",
    "\n",
    "def reduce_array(in_array: np.ndarray, check_greater: bool, bit_pos: int):\n",
    "    \n",
    "    # Returns the reduced array that includes only the required roww\n",
    "\n",
    "    # Attributes\n",
    "    # in_array:  numpy:np.ndarray\n",
    "    #    the array whose rows are to be reduced\n",
    "    # check_greater: bool\n",
    "    #    are we checking for a greater preponderance of bits (O2 generator) or fewer (CO2 scrubber)\n",
    "    # bit_pos: int\n",
    "    #    the bit position to check\n",
    "    \n",
    "    total_1_bits = 0\n",
    "    total_0_bits = 0\n",
    "    for x in in_array:\n",
    "        if x[bit_pos] == '1':\n",
    "            total_1_bits += 1\n",
    "        else:\n",
    "            total_0_bits += 1\n",
    "\n",
    "    temp_array: np.ndarray = []\n",
    "    for y in in_array:\n",
    "        bit_value = y[bit_pos]\n",
    "        if check_greater:\n",
    "            want_1s = True if total_1_bits >= total_0_bits else False\n",
    "            if want_1s and bit_value == '1':\n",
    "                temp_array.append(y)\n",
    "            else:\n",
    "                if not want_1s and bit_value == '0':\n",
    "                    temp_array.append(y)\n",
    "        else:\n",
    "            want_0s = True if total_0_bits <= total_1_bits else False\n",
    "            if want_0s and bit_value =='0':\n",
    "                temp_array.append(y)\n",
    "            else:\n",
    "                if not want_0s and bit_value =='1':\n",
    "                    temp_array.append(y)\n",
    "\n",
    "    return temp_array\n",
    "\n",
    "number_of_bits = len(o2_array[0])\n",
    "\n",
    "check_bit = 0\n",
    "while check_bit < number_of_bits:\n",
    "    if len(o2_array) > 1:\n",
    "        # check the Oxygen Generator - pick the greatest bit value for retaining\n",
    "        o2_array =  reduce_array(o2_array, True, check_bit)\n",
    "    if len(co2_array) >1:\n",
    "        # check the CO2 Scrubber - pick the least bit value for retaining\n",
    "        co2_array = reduce_array(co2_array, False, check_bit)\n",
    "    check_bit += 1\n",
    "\n",
    "  \n",
    "# convert the reduced arrays to integers\n",
    "o2_generator_rating = int(o2_array[0], 2)\n",
    "co2_scrubber_rating = int(co2_array[0], 2)\n",
    "\n",
    "life_support_rating = o2_generator_rating * co2_scrubber_rating\n",
    "\n",
    "print(\"O2 Generator rating: \", o2_generator_rating)\n",
    "print(\"CO2 Scrubber rating: \", co2_scrubber_rating)\n",
    "\n",
    "print(\"Life Support rating: \", life_support_rating)\n"
   ]
  }
 ],
 "metadata": {
  "interpreter": {
   "hash": "93cec69c38bad84d389aeaa7f91e1905006bdd97badbe8bc35fb9b6e193eb61c"
  },
  "kernelspec": {
   "display_name": "Python 3.9.7 64-bit ('AdventOfCode': conda)",
   "language": "python",
   "name": "python3"
  },
  "language_info": {
   "codemirror_mode": {
    "name": "ipython",
    "version": 3
   },
   "file_extension": ".py",
   "mimetype": "text/x-python",
   "name": "python",
   "nbconvert_exporter": "python",
   "pygments_lexer": "ipython3",
   "version": "3.9.7"
  },
  "orig_nbformat": 4
 },
 "nbformat": 4,
 "nbformat_minor": 2
}
